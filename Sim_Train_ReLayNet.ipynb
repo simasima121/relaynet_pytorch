{
 "cells": [
  {
   "cell_type": "markdown",
   "metadata": {},
   "source": [
    "# Train ReLayNet"
   ]
  },
  {
   "cell_type": "code",
   "execution_count": 1,
   "metadata": {
    "collapsed": true
   },
   "outputs": [],
   "source": [
    "import numpy as np\n",
    "import matplotlib.pyplot as plt\n",
    "import torch\n",
    "from torch.autograd import Variable\n",
    "import h5py\n",
    "\n",
    "from relaynet_pytorch.relay_net import ReLayNet\n",
    "from relaynet_pytorch.data_utils import get_imdb_data\n",
    "from helper import * # import helper functions\n",
    "\n",
    "#torch.set_default_tensor_type('torch.FloatTensor')\n",
    "\n",
    "%matplotlib inline\n",
    "plt.rcParams['figure.figsize'] = (10.0, 8.0) # set default size of plots\n",
    "plt.rcParams['image.interpolation'] = 'nearest'\n",
    "plt.rcParams['image.cmap'] = 'gray'\n",
    "\n",
    "# for auto-reloading external modules\n",
    "# see http://stackoverflow.com/questions/1907993/autoreload-of-modules-in-ipython\n",
    "%load_ext autoreload\n",
    "%autoreload 2"
   ]
  },
  {
   "cell_type": "code",
   "execution_count": 2,
   "metadata": {},
   "outputs": [
    {
     "name": "stdout",
     "output_type": "stream",
     "text": [
      "Train size: 480\n",
      "Test size: 120\n"
     ]
    }
   ],
   "source": [
    "train_data, test_data = get_imdb_data()\n",
    "print(\"Train size: %i\" % len(train_data))\n",
    "print(\"Test size: %i\" % len(test_data))"
   ]
  },
  {
   "cell_type": "code",
   "execution_count": 3,
   "metadata": {
    "collapsed": true
   },
   "outputs": [],
   "source": [
    "# Printing Errors for CUDA\n",
    "os.environ['CUDA_LAUNCH_BLOCKING'] = '1'\n",
    "CUDA_LAUNCH_BLOCKING=1"
   ]
  },
  {
   "cell_type": "code",
   "execution_count": 4,
   "metadata": {
    "scrolled": false
   },
   "outputs": [
    {
     "name": "stdout",
     "output_type": "stream",
     "text": [
      "START TRAIN.\n",
      "[Iteration : 0/2] - Train Loss: 34.09086608886719\n",
      "Per class average dice score is 0.349950199821\n",
      "[Iteration : 0/2] - Train Loss: 29.25154685974121\n",
      "Per class average dice score is 0.323851216999\n",
      "[Iteration : 0/2] - Train Loss: 25.33164405822754\n",
      "Per class average dice score is 0.324186536405\n",
      "[Iteration : 0/2] - Train Loss: 23.67253875732422\n",
      "Per class average dice score is 0.319467290727\n",
      "[Iteration : 0/2] - Train Loss: 21.61916732788086\n",
      "Per class average dice score is 0.322135896581\n",
      "[Iteration : 0/2] - Train Loss: 19.685718536376953\n",
      "Per class average dice score is 0.361377563575\n",
      "[Iteration : 0/2] - Train Loss: 19.057113647460938\n",
      "Per class average dice score is 0.343369008685\n",
      "[Iteration : 0/2] - Train Loss: 19.53956413269043\n",
      "Per class average dice score is 0.343961320655\n",
      "[Iteration : 0/2] - Train Loss: 18.379056930541992\n",
      "Per class average dice score is 0.338568563596\n",
      "[Iteration : 0/2] - Train Loss: 17.337627410888672\n",
      "Per class average dice score is 0.588602014269\n",
      "[Iteration : 0/2] - Train Loss: 19.146472930908203\n",
      "Per class average dice score is 0.362925355811\n",
      "[Iteration : 0/2] - Train Loss: 17.50465202331543\n",
      "Per class average dice score is 0.395851224181\n",
      "[Iteration : 0/2] - Train Loss: 20.311845779418945\n",
      "Per class average dice score is 0.403807300987\n",
      "[Iteration : 0/2] - Train Loss: 15.956694602966309\n",
      "Per class average dice score is 0.362669852945\n",
      "[Iteration : 0/2] - Train Loss: 16.877769470214844\n",
      "Per class average dice score is 0.379112021223\n",
      "[Iteration : 0/2] - Train Loss: 16.973011016845703\n",
      "Per class average dice score is 0.411162394722\n",
      "[Iteration : 0/2] - Train Loss: 19.75316619873047\n",
      "Per class average dice score is 0.385794543329\n",
      "[Iteration : 0/2] - Train Loss: 15.644736289978027\n",
      "Per class average dice score is 0.382003934849\n",
      "[Iteration : 0/2] - Train Loss: 15.562870025634766\n",
      "Per class average dice score is 0.373384489122\n",
      "[Iteration : 0/2] - Train Loss: 15.504109382629395\n",
      "Per class average dice score is 0.384835403426\n",
      "[Iteration : 0/2] - Train Loss: 13.848514556884766\n",
      "Per class average dice score is 0.418009285557\n",
      "[Iteration : 0/2] - Train Loss: 17.366744995117188\n",
      "Per class average dice score is 0.391528820768\n",
      "[Iteration : 0/2] - Train Loss: 15.359785079956055\n",
      "Per class average dice score is 0.41568954403\n",
      "[Iteration : 0/2] - Train Loss: 17.044597625732422\n",
      "Per class average dice score is 0.365272931645\n",
      "[Epoch : 0/2] : 17.044597625732422\n",
      "Saving model... models/RawOCT4/relaynet_epoch1.model\n",
      "[Iteration : 0/2] - Train Loss: 16.958572387695312\n",
      "Per class average dice score is 0.384447484054\n",
      "[Iteration : 0/2] - Train Loss: 17.57746124267578\n",
      "Per class average dice score is 0.661643491387\n",
      "[Iteration : 0/2] - Train Loss: 16.05475616455078\n",
      "Per class average dice score is 0.632794642783\n",
      "[Iteration : 0/2] - Train Loss: 14.54729175567627\n",
      "Per class average dice score is 0.394633433333\n",
      "[Iteration : 0/2] - Train Loss: 14.120614051818848\n",
      "Per class average dice score is 0.634845751486\n",
      "[Iteration : 0/2] - Train Loss: 15.955344200134277\n",
      "Per class average dice score is 0.396940531589\n",
      "[Iteration : 0/2] - Train Loss: 13.779341697692871\n",
      "Per class average dice score is 0.385573633792\n",
      "[Iteration : 0/2] - Train Loss: 15.358107566833496\n",
      "Per class average dice score is 0.368210024611\n",
      "[Iteration : 0/2] - Train Loss: 16.013813018798828\n",
      "Per class average dice score is 0.396364660003\n",
      "[Iteration : 0/2] - Train Loss: 13.365848541259766\n",
      "Per class average dice score is 0.38017671192\n",
      "[Iteration : 0/2] - Train Loss: 17.465145111083984\n",
      "Per class average dice score is 0.358231955458\n",
      "[Iteration : 0/2] - Train Loss: 14.852357864379883\n",
      "Per class average dice score is 0.374568827614\n",
      "[Iteration : 0/2] - Train Loss: 18.961196899414062\n",
      "Per class average dice score is 0.394334464099\n",
      "[Iteration : 0/2] - Train Loss: 13.870949745178223\n",
      "Per class average dice score is 0.448836789199\n",
      "[Iteration : 0/2] - Train Loss: 16.580501556396484\n",
      "Per class average dice score is 0.472260375331\n",
      "[Iteration : 0/2] - Train Loss: 15.612228393554688\n",
      "Per class average dice score is 0.418389775834\n",
      "[Iteration : 0/2] - Train Loss: 15.574124336242676\n",
      "Per class average dice score is 0.675731784289\n",
      "[Iteration : 0/2] - Train Loss: 15.402655601501465\n",
      "Per class average dice score is 0.372480371827\n",
      "[Iteration : 0/2] - Train Loss: 17.359111785888672\n",
      "Per class average dice score is 0.398520915909\n",
      "[Iteration : 0/2] - Train Loss: 14.102510452270508\n",
      "Per class average dice score is 0.402406752351\n",
      "[Iteration : 0/2] - Train Loss: 14.856200218200684\n",
      "Per class average dice score is 0.470778739476\n",
      "[Iteration : 0/2] - Train Loss: 17.219324111938477\n",
      "Per class average dice score is 0.421028339888\n",
      "[Iteration : 0/2] - Train Loss: 13.673698425292969\n",
      "Per class average dice score is 0.419698724938\n",
      "[Iteration : 0/2] - Train Loss: 16.589262008666992\n",
      "Per class average dice score is 0.427528283176\n",
      "[Epoch : 1/2] : 16.589262008666992\n",
      "Saving model... models/RawOCT4/relaynet_epoch2.model\n",
      "FINISH.\n"
     ]
    }
   ],
   "source": [
    "from relaynet_pytorch.relay_net import ReLayNet\n",
    "from relaynet_pytorch.solver import Solver\n",
    "\n",
    "bs = 20\n",
    "wrkrs = 4\n",
    "train_loader = torch.utils.data.DataLoader(train_data, batch_size=bs, shuffle=True, num_workers=wrkrs)\n",
    "val_loader = torch.utils.data.DataLoader(test_data, batch_size=bs, shuffle=False, num_workers=wrkrs)\n",
    "\n",
    "param ={\n",
    "        'num_channels':1,\n",
    "        'num_filters':64,\n",
    "        'kernel_h':3,\n",
    "        'kernel_w':7,\n",
    "        'kernel_c': 1,\n",
    "        'stride_conv':1,\n",
    "        'pool':2,\n",
    "        'stride_pool':2,\n",
    "        'num_class':8\n",
    "    }\n",
    "\n",
    "exp_dir_name = 'RawOCT4'\n",
    "\n",
    "relaynet_model = ReLayNet(param)\n",
    "solver = Solver(optim_args={\"lr\": 1e-2})\n",
    "solver.train(relaynet_model, train_loader, val_loader, log_nth=1, num_epochs=2, exp_dir_name=exp_dir_name)"
   ]
  },
  {
   "cell_type": "code",
   "execution_count": null,
   "metadata": {
    "collapsed": true
   },
   "outputs": [],
   "source": [
    "SEG_LABELS_LIST = [\n",
    "#     {\"id\": -1, \"name\": \"void\", \"rgb_values\": [0, 0, 0]},\n",
    "    {\"id\": 0, \"name\": \"void\", \"rgb_values\": [0, 0, 0]}, # black\n",
    "    {\"id\": 1, \"name\": \"Myocardium\", \"rgb_values\": [255,0,0]}, # red\n",
    "    {\"id\": 2, \"name\": \"Endocardium\", \"rgb_values\": [0, 0, 255]}, # blue\n",
    "    {\"id\": 3, \"name\": \"Fibrosis\", \"rgb_values\": [177,10,255]}, # purple\n",
    "    {\"id\": 4, \"name\": \"Fat\", \"rgb_values\": [0, 255, 0]}, # green\n",
    "    {\"id\": 5, \"name\": \"Dense Collagen\", \"rgb_values\": [255, 140, 0]}, # orange\n",
    "    {\"id\": 6, \"name\": \"Loose Collagen\", \"rgb_values\": [255, 255, 0]}, # yellow\n",
    "    {\"id\": 7, \"name\": \"Smooth Muscle\", \"rgb_values\": [255,0,255]}# magenta/pink\n",
    "]; \n",
    "\n",
    "def label_img_to_rgb(label_img):\n",
    "    label_img = np.squeeze(label_img)\n",
    "    labels = np.unique(label_img)\n",
    "    label_infos = [l for l in SEG_LABELS_LIST if l['id'] in labels]\n",
    "\n",
    "    label_img_rgb = np.array([label_img,\n",
    "                              label_img,\n",
    "                              label_img]).transpose(1,2,0)\n",
    "    for l in label_infos:\n",
    "        mask = label_img == l['id']\n",
    "        label_img_rgb[mask] = l['rgb_values']\n",
    "\n",
    "    return label_img_rgb.astype(np.uint8)"
   ]
  },
  {
   "cell_type": "code",
   "execution_count": 9,
   "metadata": {},
   "outputs": [
    {
     "ename": "AttributeError",
     "evalue": "'ReLayNet' object has no attribute 'train_loss_history'",
     "output_type": "error",
     "traceback": [
      "\u001b[0;31m---------------------------------------------------------------------------\u001b[0m",
      "\u001b[0;31mAttributeError\u001b[0m                            Traceback (most recent call last)",
      "\u001b[0;32m<ipython-input-9-458a4a0a1530>\u001b[0m in \u001b[0;36m<module>\u001b[0;34m()\u001b[0m\n\u001b[1;32m      3\u001b[0m \u001b[0;34m\u001b[0m\u001b[0m\n\u001b[1;32m      4\u001b[0m \u001b[0mrelaynet_model\u001b[0m \u001b[0;34m=\u001b[0m  \u001b[0mtorch\u001b[0m\u001b[0;34m.\u001b[0m\u001b[0mload\u001b[0m\u001b[0;34m(\u001b[0m\u001b[0;34m'models/RawOCT2/relaynet_epoch99.model'\u001b[0m\u001b[0;34m)\u001b[0m\u001b[0;34m\u001b[0m\u001b[0m\n\u001b[0;32m----> 5\u001b[0;31m \u001b[0mprint\u001b[0m\u001b[0;34m(\u001b[0m\u001b[0mrelaynet_model\u001b[0m\u001b[0;34m.\u001b[0m\u001b[0mtrain_loss_history\u001b[0m\u001b[0;34m(\u001b[0m\u001b[0;34m)\u001b[0m\u001b[0;34m)\u001b[0m\u001b[0;34m\u001b[0m\u001b[0m\n\u001b[0m\u001b[1;32m      6\u001b[0m \u001b[0;31m# out = relaynet_model(Variable(torch.Tensor(test_data.X[10:11]).cuda(),volatile=True))\u001b[0m\u001b[0;34m\u001b[0m\u001b[0;34m\u001b[0m\u001b[0m\n\u001b[1;32m      7\u001b[0m \u001b[0;31m# out = F.softmax(out,dim=1)\u001b[0m\u001b[0;34m\u001b[0m\u001b[0;34m\u001b[0m\u001b[0m\n",
      "\u001b[0;32m~/anaconda3/envs/py3/lib/python3.6/site-packages/torch/nn/modules/module.py\u001b[0m in \u001b[0;36m__getattr__\u001b[0;34m(self, name)\u001b[0m\n\u001b[1;32m    530\u001b[0m                 \u001b[0;32mreturn\u001b[0m \u001b[0mmodules\u001b[0m\u001b[0;34m[\u001b[0m\u001b[0mname\u001b[0m\u001b[0;34m]\u001b[0m\u001b[0;34m\u001b[0m\u001b[0m\n\u001b[1;32m    531\u001b[0m         raise AttributeError(\"'{}' object has no attribute '{}'\".format(\n\u001b[0;32m--> 532\u001b[0;31m             type(self).__name__, name))\n\u001b[0m\u001b[1;32m    533\u001b[0m \u001b[0;34m\u001b[0m\u001b[0m\n\u001b[1;32m    534\u001b[0m     \u001b[0;32mdef\u001b[0m \u001b[0m__setattr__\u001b[0m\u001b[0;34m(\u001b[0m\u001b[0mself\u001b[0m\u001b[0;34m,\u001b[0m \u001b[0mname\u001b[0m\u001b[0;34m,\u001b[0m \u001b[0mvalue\u001b[0m\u001b[0;34m)\u001b[0m\u001b[0;34m:\u001b[0m\u001b[0;34m\u001b[0m\u001b[0m\n",
      "\u001b[0;31mAttributeError\u001b[0m: 'ReLayNet' object has no attribute 'train_loss_history'"
     ]
    }
   ],
   "source": [
    "import matplotlib.pyplot as plt\n",
    "import torch.nn.functional as F\n",
    "\n",
    "relaynet_model =  torch.load('models/RawOCT2/relaynet_epoch99.model')\n",
    "\n",
    "out = relaynet_model(Variable(torch.Tensor(test_data.X[10:11]).cuda(),volatile=True))\n",
    "out = F.softmax(out,dim=1)\n",
    "max_val, idx = torch.max(out,1)\n",
    "idx = idx.data.cpu().numpy()\n",
    "idx = label_img_to_rgb(idx)\n",
    "plt.imshow(idx)\n",
    "plt.show()\n",
    "\n",
    "img_test = test_data.X[10:11]\n",
    "img_test = np.squeeze(img_test)\n",
    "plt.imshow(img_test)\n",
    "plt.show()"
   ]
  },
  {
   "cell_type": "code",
   "execution_count": null,
   "metadata": {
    "collapsed": true
   },
   "outputs": [],
   "source": []
  }
 ],
 "metadata": {
  "kernelspec": {
   "display_name": "Python (torch)",
   "language": "python",
   "name": "py3"
  },
  "language_info": {
   "codemirror_mode": {
    "name": "ipython",
    "version": 3
   },
   "file_extension": ".py",
   "mimetype": "text/x-python",
   "name": "python",
   "nbconvert_exporter": "python",
   "pygments_lexer": "ipython3",
   "version": "3.6.5"
  }
 },
 "nbformat": 4,
 "nbformat_minor": 2
}
