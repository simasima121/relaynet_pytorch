{
 "cells": [
  {
   "cell_type": "markdown",
   "metadata": {},
   "source": [
    "## Imports"
   ]
  },
  {
   "cell_type": "markdown",
   "metadata": {},
   "source": [
    "### Torch Imports"
   ]
  },
  {
   "cell_type": "code",
   "execution_count": null,
   "metadata": {
    "collapsed": false
   },
   "outputs": [],
   "source": [
    "import numpy as np\n",
    "import matplotlib.pyplot as plt\n",
    "import torch\n",
    "from torch.autograd import Variable\n",
    "import PIL\n",
    "from PIL import ImageFont\n",
    "from PIL import Image\n",
    "from PIL import ImageDraw\n",
    "# import torch.onnx\n",
    "\n",
    "from relaynet_pytorch.relay_net import ReLayNet\n",
    "from relaynet_pytorch.data_utils import get_imdb_data\n",
    "from helper import * # import helper functions\n",
    "\n",
    "# from networks.relay_net import ReLayNet\n",
    "# from networks.data_utils import get_imdb_data\n",
    "\n",
    "torch.set_default_tensor_type('torch.FloatTensor')\n",
    "\n",
    "%matplotlib inline\n",
    "plt.rcParams['figure.figsize'] = (10.0, 8.0) # set default size of plots\n",
    "plt.rcParams['image.interpolation'] = 'nearest'\n",
    "plt.rcParams['image.cmap'] = 'gray'\n",
    "\n",
    "# for auto-reloading external modules\n",
    "# see http://stackoverflow.com/questions/1907993/autoreload-of-modules-in-ipython\n",
    "%load_ext autoreload\n",
    "%autoreload 2\n",
    "\n",
    "# For reading in datasets\n",
    "from torchvision.datasets import ImageFolder\n",
    "from torchvision import transforms, datasets\n",
    "import torch.nn.functional as F\n",
    "from helper import *\n",
    "from create_labels import *"
   ]
  },
  {
   "cell_type": "markdown",
   "metadata": {},
   "source": [
    "## Models"
   ]
  },
  {
   "cell_type": "markdown",
   "metadata": {},
   "source": [
    "### Loading ReLayNet Base Model"
   ]
  },
  {
   "cell_type": "code",
   "execution_count": null,
   "metadata": {
    "collapsed": false
   },
   "outputs": [],
   "source": [
    "# Loading ReLayNet Model\n",
    "from torch.utils.serialization import load_lua\n",
    "model = '/home/sim/notebooks/relaynet_pytorch/models/Exp01/relaynet_epoch20.model'\n",
    "# load the model\n",
    "relaynet_model = torch.load(model).cuda()"
   ]
  },
  {
   "cell_type": "markdown",
   "metadata": {},
   "source": [
    "#### Make Prediction with ReLayNet"
   ]
  },
  {
   "cell_type": "code",
   "execution_count": null,
   "metadata": {
    "collapsed": true
   },
   "outputs": [],
   "source": [
    "def relay_out(data):\n",
    "    '''\n",
    "    output of relaynet - takes test data in form (1, 1, height, width)\n",
    "    '''\n",
    "    test_data = np.copy(data) # Copy so it doesn't alter init dimensions of data\n",
    "    \n",
    "    height, width = test_data.shape\n",
    "    test_data.shape = (1,1,height,width) # Change dimensions of data\n",
    "    out = relaynet_model(Variable(torch.cuda.FloatTensor(test_data)))\n",
    "    out = F.softmax(out,dim=1)\n",
    "    max_val, idx = torch.max(out,1) # torch.max(input, dim, keepdim=False, out=None) -> (Tensor, LongTensor)\n",
    "    idxs = idx.data.cpu().numpy()\n",
    "    return idxs"
   ]
  },
  {
   "cell_type": "markdown",
   "metadata": {},
   "source": [
    "### Setting Directory"
   ]
  },
  {
   "cell_type": "code",
   "execution_count": null,
   "metadata": {
    "collapsed": false
   },
   "outputs": [],
   "source": [
    "# Setting the directories\n",
    "import os\n",
    "\n",
    "wanted_folder = 'alldata/'\n",
    "# wanted_folder = 'pruned/'\n",
    "# wanted_folder = 'Atrium/'\n",
    "# wanted_folder = 'Ventricle/'\n",
    "\n",
    "cwd = os.getcwd()\n",
    "check_directory = cwd\n",
    "results_folder = cwd + '/results'\n",
    "if check_directory == '/home/sim/notebooks/relaynet_pytorch':\n",
    "    cwd = cwd + '/datasets/OCTData/'+wanted_folder\n",
    "elif check_directory == '/Users/sim/Desktop/Imperial/Project/PreTrained/relaynet_pytorch':\n",
    "    cwd = cwd + '/datasets-24-aug/OCTData/'+wanted_folder\n",
    "\n",
    "print(cwd)"
   ]
  },
  {
   "cell_type": "code",
   "execution_count": null,
   "metadata": {
    "collapsed": false
   },
   "outputs": [],
   "source": [
    "# filenames, raw_images = get_data(cwd+'whole_raw_image','.tif')\n",
    "# filenames, raw_images = get_data(cwd+'normalised_raw_image','.png')\n",
    "filenames, raw_images = get_data(cwd+'normalised_raw_2','.png')\n",
    "\n",
    "save_name = results_folder + '/Normalised/'+ 'torch_' + 'atrven_normalised' + '.npy'\n",
    "\n",
    "print (raw_images[0].shape)\n",
    "plt.imshow(raw_images[2],cmap = \"gray\")"
   ]
  },
  {
   "cell_type": "code",
   "execution_count": null,
   "metadata": {
    "collapsed": false
   },
   "outputs": [],
   "source": [
    "stored_images = []\n",
    "for i in range(len(filenames)):\n",
    "    out = relay_out(raw_images[i])\n",
    "    out = np.squeeze(out)  \n",
    "    stored_images.append(out)\n",
    "stored_images = np.asarray(stored_images)\n",
    "\n",
    "np.save(save_name,stored_images)\n",
    "# idxs = label_img_to_rgb(out)\n",
    "# plt.imshow(idxs)\n",
    "# plt.show()"
   ]
  }
 ],
 "metadata": {
  "kernelspec": {
   "display_name": "Python (torch)",
   "language": "python",
   "name": "py3"
  },
  "language_info": {
   "codemirror_mode": {
    "name": "ipython",
    "version": 3
   },
   "file_extension": ".py",
   "mimetype": "text/x-python",
   "name": "python",
   "nbconvert_exporter": "python",
   "pygments_lexer": "ipython3",
   "version": "3.6.5"
  }
 },
 "nbformat": 4,
 "nbformat_minor": 2
}
