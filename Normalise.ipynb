{
 "cells": [
  {
   "cell_type": "markdown",
   "metadata": {},
   "source": [
    "## Useful Links\n",
    "https://stackoverflow.com/questions/41979481/mean-pixel-subtraction-for-numpy-array\n"
   ]
  },
  {
   "cell_type": "code",
   "execution_count": null,
   "metadata": {},
   "outputs": [],
   "source": [
    "import scipy.io as scio\n",
    "import numpy as np    \n",
    "import matplotlib.pyplot as plt\n",
    "import sys\n",
    "import os\n",
    "import math\n",
    "import pprint\n",
    "import cv2\n",
    "from scipy.misc import imsave\n",
    "from helper import *\n",
    "\n",
    "%matplotlib inline\n",
    "plt.rcParams['figure.figsize'] = (10.0, 8.0) # set default size of plots\n",
    "plt.rcParams['image.interpolation'] = 'nearest'\n",
    "plt.rcParams['image.cmap'] = 'gray'\n",
    "\n",
    "# for auto-reloading external modules\n",
    "# see http://stackoverflow.com/questions/1907993/autoreload-of-modules-in-ipython\n",
    "%load_ext autoreload\n",
    "%autoreload 2"
   ]
  },
  {
   "cell_type": "code",
   "execution_count": null,
   "metadata": {},
   "outputs": [],
   "source": [
    "import skimage.restoration as sr\n",
    "import numpy as np\n",
    "import glob\n",
    "# import h5py\n",
    "import os\n",
    "import scipy.io as scio\n",
    "from skimage import exposure\n",
    "from skimage.io import imsave, imread\n",
    "from scipy.misc import imresize\n",
    "from scipy.io import savemat\n",
    "from scipy import ndimage, misc\n",
    "import matplotlib.pyplot as plt\n",
    "%matplotlib inline\n",
    "import re\n",
    "\n",
    "from helper import *\n",
    "\n",
    "import os\n",
    "cwd = os.getcwd()"
   ]
  },
  {
   "cell_type": "code",
   "execution_count": null,
   "metadata": {},
   "outputs": [],
   "source": [
    "# Setting the directories\n",
    "import os\n",
    "\n",
    "\n",
    "wanted_folder = 'alldata/'\n",
    "# wanted_folder = 'pruned/'\n",
    "# wanted_folder = 'Atrium/'\n",
    "# wanted_folder = 'Ventricle/'\n",
    "\n",
    "cwd = os.getcwd()\n",
    "check_directory = cwd\n",
    "print(check_directory)\n",
    "cwd = cwd + '/datasets-24-aug/OCTData/'+wanted_folder\n",
    "print(cwd)"
   ]
  },
  {
   "cell_type": "code",
   "execution_count": null,
   "metadata": {},
   "outputs": [],
   "source": [
    "whole_raw_image_folder = cwd + 'whole_raw_image/'\n",
    "print(whole_raw_image_folder)\n",
    "def list_all_files(directory):\n",
    "    from os import listdir\n",
    "    from os.path import isfile, join\n",
    "    all_labels_files = [f for f in listdir(directory) if isfile(join(directory, f))]\n",
    "    all_labels_files.sort()\n",
    "    return all_labels_files"
   ]
  },
  {
   "cell_type": "code",
   "execution_count": null,
   "metadata": {},
   "outputs": [],
   "source": [
    "def atoi(text) : \n",
    "    return int(text) if text.isdigit() else text"
   ]
  },
  {
   "cell_type": "code",
   "execution_count": null,
   "metadata": {},
   "outputs": [],
   "source": [
    "def natural_keys(text) :\n",
    "    return [atoi(c) for c in re.split('(\\d+)', text)]"
   ]
  },
  {
   "cell_type": "code",
   "execution_count": null,
   "metadata": {},
   "outputs": [],
   "source": [
    "root_path = \"\"\n",
    "filenames = []\n",
    "\n",
    "# for root, dirnames, filenames in os.walk(\"/home/sim/notebooks/relaynet_pytorch/datasets/OCTData/alldata/whole_raw_image/Train\"):\n",
    "# for root, dirnames, filenames in os.walk(\"/Users/sim/Desktop/Imperial/Project/PreTrained/relaynet_pytorch/datasets-24-aug/OCTData/alldata/whole_raw_image\"):\n",
    "#     filenames.sort(key = natural_keys)\n",
    "#     rootpath = root\n",
    "for files in os.listdir(whole_raw_image_folder):\n",
    "    for ext in ['.tif', '.jpg', '.JPG', '.png', '.npy', '.DS_Store']: \n",
    "        if files.endswith(ext):\n",
    "            filenames.append(files)\n",
    "filenames = sorted(filenames)\n",
    "print(len(filenames))"
   ]
  },
  {
   "cell_type": "code",
   "execution_count": null,
   "metadata": {},
   "outputs": [],
   "source": [
    "filenames = filenames[1:] # making filenames without .DS_store"
   ]
  },
  {
   "cell_type": "code",
   "execution_count": null,
   "metadata": {},
   "outputs": [],
   "source": [
    "def get_info(filenames, root, ext):\n",
    "    images = []\n",
    "    for filename in filenames :\n",
    "        filepath = os.path.join(root,filename)\n",
    "        if ext == '.npy':\n",
    "            image = np.load(filepath)\n",
    "            h,w = image.shape\n",
    "            \n",
    "            if h != 512 or w != 64:\n",
    "#                 print(h,w) \n",
    "                amount = 512 - h\n",
    "                id_full = np.full((amount, 64), 0)\n",
    "                image = np.concatenate((image, id_full))\n",
    "#                 print(image.shape)\n",
    "        elif ext == '.JPG' or ext == '.tif':\n",
    "            image = ndimage.imread(filepath, mode = \"L\")\n",
    "        images.append(image)\n",
    "    return images"
   ]
  },
  {
   "cell_type": "code",
   "execution_count": null,
   "metadata": {},
   "outputs": [],
   "source": [
    "raw_images = get_info(filenames, whole_raw_image_folder, '.tif')"
   ]
  },
  {
   "cell_type": "code",
   "execution_count": null,
   "metadata": {},
   "outputs": [],
   "source": [
    "print (len(raw_images))"
   ]
  },
  {
   "cell_type": "code",
   "execution_count": null,
   "metadata": {},
   "outputs": [],
   "source": [
    "# print(filenames)"
   ]
  },
  {
   "cell_type": "code",
   "execution_count": null,
   "metadata": {},
   "outputs": [],
   "source": [
    "normalisedimages = []"
   ]
  },
  {
   "cell_type": "code",
   "execution_count": null,
   "metadata": {},
   "outputs": [],
   "source": [
    "def normalise_images()\n",
    "    \n",
    "\n",
    "def denoiseImage(image):\n",
    "    maxvalue = np.max(image)\n",
    "    newimage = image*(255.0/maxvalue).astype(np.uint8)\n",
    "    \n",
    "    mean_filter_img = mean_filter(image)\n",
    "    gaussian_filter_img = gaussian_filter(image)\n",
    "    bilateral_filter_img = bilateral_filter(image)\n",
    "    nlm_denoised = denoise_nl_means(newimage)\n",
    "#     bm3d_denoised = denoise_nl_means(newimage)\n",
    "    \n",
    "    # Store denoised images in array\n",
    "    mean_filter_images.append(mean_filter_img)\n",
    "    gaussian_filter_images.append(gaussian_filter_img)\n",
    "    bilateral_filter_images.append(bilateral_filter_img)\n",
    "    nlm_denoised_images.append(nlm_denoised)"
   ]
  },
  {
   "cell_type": "code",
   "execution_count": null,
   "metadata": {},
   "outputs": [],
   "source": [
    "# def find_mean_image(list_of_images):\n",
    "print(len(raw_images))\n",
    "raw_images = np.asarray(raw_images)\n",
    "print(raw_images.shape)"
   ]
  },
  {
   "cell_type": "code",
   "execution_count": null,
   "metadata": {},
   "outputs": [],
   "source": [
    "mean_image = np.mean(raw_images, axis=0)\n",
    "plt.imshow(mean_image)"
   ]
  },
  {
   "cell_type": "code",
   "execution_count": null,
   "metadata": {},
   "outputs": [],
   "source": [
    "plt.imshow(raw_images[3])"
   ]
  },
  {
   "cell_type": "code",
   "execution_count": null,
   "metadata": {},
   "outputs": [],
   "source": [
    "normalised_images = raw_images - mean_image\n",
    "plt.imshow(normalised_images[3])"
   ]
  },
  {
   "cell_type": "code",
   "execution_count": null,
   "metadata": {},
   "outputs": [],
   "source": [
    "print(cwd)"
   ]
  },
  {
   "cell_type": "code",
   "execution_count": null,
   "metadata": {},
   "outputs": [],
   "source": [
    "directory = cwd\n",
    "for item in range(len(normalised_images)):\n",
    "    name = filenames[item]\n",
    "    print(name)\n",
    "    normalised_file = directory + 'normalised_raw_image/'+ name"
   ]
  },
  {
   "cell_type": "code",
   "execution_count": null,
   "metadata": {},
   "outputs": [],
   "source": []
  }
 ],
 "metadata": {
  "kernelspec": {
   "display_name": "Python (py3)",
   "language": "python",
   "name": "py3"
  },
  "language_info": {
   "codemirror_mode": {
    "name": "ipython",
    "version": 3
   },
   "file_extension": ".py",
   "mimetype": "text/x-python",
   "name": "python",
   "nbconvert_exporter": "python",
   "pygments_lexer": "ipython3",
   "version": "3.6.5"
  }
 },
 "nbformat": 4,
 "nbformat_minor": 2
}
