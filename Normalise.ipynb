{
 "cells": [
  {
   "cell_type": "markdown",
   "metadata": {},
   "source": [
    "## Useful Links\n",
    "https://stackoverflow.com/questions/41979481/mean-pixel-subtraction-for-numpy-array\n"
   ]
  },
  {
   "cell_type": "code",
   "execution_count": null,
   "metadata": {
    "collapsed": true
   },
   "outputs": [],
   "source": [
    "import scipy.io as scio\n",
    "import numpy as np    \n",
    "import matplotlib.pyplot as plt\n",
    "import sys\n",
    "import os\n",
    "import math\n",
    "import pprint\n",
    "import cv2\n",
    "from scipy.misc import imsave\n",
    "from helper import *\n",
    "\n",
    "%matplotlib inline\n",
    "plt.rcParams['figure.figsize'] = (10.0, 8.0) # set default size of plots\n",
    "plt.rcParams['image.interpolation'] = 'nearest'\n",
    "plt.rcParams['image.cmap'] = 'gray'\n",
    "\n",
    "# for auto-reloading external modules\n",
    "# see http://stackoverflow.com/questions/1907993/autoreload-of-modules-in-ipython\n",
    "%load_ext autoreload\n",
    "%autoreload 2"
   ]
  },
  {
   "cell_type": "code",
   "execution_count": null,
   "metadata": {
    "collapsed": true
   },
   "outputs": [],
   "source": [
    "import skimage.restoration as sr\n",
    "import numpy as np\n",
    "import glob\n",
    "# import h5py\n",
    "import os\n",
    "import scipy.io as scio\n",
    "from skimage import exposure\n",
    "from skimage.io import imsave, imread\n",
    "from scipy.misc import imresize\n",
    "from scipy.io import savemat\n",
    "from scipy import ndimage, misc\n",
    "import matplotlib.pyplot as plt\n",
    "%matplotlib inline\n",
    "import re\n",
    "\n",
    "from helper import *"
   ]
  },
  {
   "cell_type": "code",
   "execution_count": null,
   "metadata": {
    "collapsed": true
   },
   "outputs": [],
   "source": [
    "# Setting the directories\n",
    "import os\n",
    "\n",
    "# wanted_folder = 'alldata/'\n",
    "# wanted_folder = 'pruned/'\n",
    "# wanted_folder = 'Atrium/'\n",
    "wanted_folder = 'Ventricle/'\n",
    "\n",
    "cwd = os.getcwd()\n",
    "cwd = cwd + '/datasets-24-aug/OCTData/'+wanted_folder\n",
    "print(cwd)"
   ]
  },
  {
   "cell_type": "code",
   "execution_count": null,
   "metadata": {
    "collapsed": true
   },
   "outputs": [],
   "source": [
    "current_folder = cwd + 'whole_raw_image/'\n",
    "# current_folder = cwd + 'bilateral_filter/'\n",
    "# current_folder = cwd + 'bm3d/'\n",
    "# current_folder = cwd + 'nl_means_denoised/'\n",
    "\n",
    "print(current_folder)\n",
    "# whole_raw_image_folder = cwd + 'whole_raw_image/'\n",
    "# print(whole_raw_image_folder)"
   ]
  },
  {
   "cell_type": "code",
   "execution_count": null,
   "metadata": {
    "collapsed": true
   },
   "outputs": [],
   "source": [
    "def list_all_files(directory):\n",
    "    from os import listdir\n",
    "    from os.path import isfile, join\n",
    "    all_labels_files = [f for f in listdir(directory) if isfile(join(directory, f))and f != '.DS_Store']\n",
    "    all_labels_files.sort()\n",
    "    return all_labels_files"
   ]
  },
  {
   "cell_type": "code",
   "execution_count": null,
   "metadata": {
    "collapsed": true
   },
   "outputs": [],
   "source": [
    "filenames = list_all_files(current_folder)\n",
    "print(filenames)"
   ]
  },
  {
   "cell_type": "code",
   "execution_count": null,
   "metadata": {
    "collapsed": true
   },
   "outputs": [],
   "source": [
    "# unwanted_files = ['con_H1_N01848_LV_1_194.tif','con_H1_N01848_LV_1_300.tif','con_H2_N02047_LVS_1_400.tif','con_H2_N02047_LVS_1_420.tif','con_H3_N02186_LVS_1_265.tif','con_H3_N02186_RV_1_270.tif','con_H3_N02186_RV_1_400.tif','con_H4_N03210_LV_1_400.tif','con_H4_N03210_RV_1_390.tif','con_H4_N03210_RV_1_400.tif','con_H5_N03290_LV_1_420.tif','con_H6_N03320_LVS_1_455.tif','con_H6_N03320_LV_1_404.tif','con_H6_N03320_RA_1_420.tif','con_H8_N03585_RA_1_345.tif']\n",
    "# unwanted_files = ['.DS_Store'] # making filenames without .DS_store"
   ]
  },
  {
   "cell_type": "code",
   "execution_count": null,
   "metadata": {
    "collapsed": true
   },
   "outputs": [],
   "source": [
    "def get_info(filenames, root, ext):\n",
    "    images = []\n",
    "    for filename in filenames :\n",
    "        if filename not in unwanted_files:\n",
    "            filepath = os.path.join(root,filename)\n",
    "            if ext == '.npy':\n",
    "                image = np.load(filepath)\n",
    "                h,w = image.shape\n",
    "\n",
    "                if h != 512 or w != 64:\n",
    "    #                 print(h,w) \n",
    "                    amount = 512 - h\n",
    "                    id_full = np.full((amount, 64), 0)\n",
    "                    image = np.concatenate((image, id_full))\n",
    "    #                 print(image.shape)\n",
    "            elif ext == '.JPG' or ext == '.tif':\n",
    "                image = ndimage.imread(filepath, mode = \"L\")\n",
    "            images.append(image)\n",
    "    return images"
   ]
  },
  {
   "cell_type": "code",
   "execution_count": null,
   "metadata": {
    "collapsed": true
   },
   "outputs": [],
   "source": [
    "raw_images = get_info(filenames, current_folder, '.tif')\n",
    "print (len(raw_images))"
   ]
  },
  {
   "cell_type": "code",
   "execution_count": null,
   "metadata": {
    "collapsed": true
   },
   "outputs": [],
   "source": [
    "print(len(raw_images))\n",
    "raw_images = np.asarray(raw_images)\n",
    "print(raw_images.shape)"
   ]
  },
  {
   "cell_type": "code",
   "execution_count": null,
   "metadata": {
    "collapsed": true
   },
   "outputs": [],
   "source": [
    "print(cwd)"
   ]
  },
  {
   "cell_type": "code",
   "execution_count": null,
   "metadata": {
    "collapsed": true
   },
   "outputs": [],
   "source": [
    "mean_image = np.mean(raw_images, axis=0)\n",
    "plt.imshow(mean_image)\n",
    "name = cwd + wanted_folder.replace('/','')+'_mean_image.png'\n",
    "print(name)\n",
    "imsave(name, mean_image)"
   ]
  },
  {
   "cell_type": "code",
   "execution_count": null,
   "metadata": {
    "collapsed": true
   },
   "outputs": [],
   "source": [
    "plt.imshow(raw_images[0])"
   ]
  },
  {
   "cell_type": "code",
   "execution_count": null,
   "metadata": {
    "collapsed": true
   },
   "outputs": [],
   "source": [
    "normalisedimages = []\n",
    "normalised_images = raw_images - mean_image\n",
    "print(normalised_images.shape)\n",
    "plt.imshow(normalised_images[3])"
   ]
  },
  {
   "cell_type": "code",
   "execution_count": null,
   "metadata": {
    "collapsed": true
   },
   "outputs": [],
   "source": [
    "print(cwd)"
   ]
  },
  {
   "cell_type": "code",
   "execution_count": null,
   "metadata": {
    "collapsed": true
   },
   "outputs": [],
   "source": [
    "for item in range(len(normalised_images)):\n",
    "    name = filenames[item]\n",
    "    normalised_file = cwd + 'normalised_raw_image/'+ name\n",
    "    \n",
    "    # Saving files\n",
    "    imsave(normalised_file, normalised_images[item])"
   ]
  },
  {
   "cell_type": "code",
   "execution_count": null,
   "metadata": {
    "collapsed": true
   },
   "outputs": [],
   "source": []
  }
 ],
 "metadata": {
  "kernelspec": {
   "display_name": "Python (torch)",
   "language": "python",
   "name": "py3"
  },
  "language_info": {
   "codemirror_mode": {
    "name": "ipython",
    "version": 3
   },
   "file_extension": ".py",
   "mimetype": "text/x-python",
   "name": "python",
   "nbconvert_exporter": "python",
   "pygments_lexer": "ipython3",
   "version": "3.6.5"
  }
 },
 "nbformat": 4,
 "nbformat_minor": 2
}
