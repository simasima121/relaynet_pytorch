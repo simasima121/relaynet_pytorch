{
 "cells": [
  {
   "cell_type": "markdown",
   "metadata": {},
   "source": [
    "### Imports"
   ]
  },
  {
   "cell_type": "code",
   "execution_count": null,
   "metadata": {},
   "outputs": [],
   "source": [
    "import scipy.io as scio\n",
    "import numpy as np    \n",
    "import matplotlib.pyplot as plt\n",
    "import sys\n",
    "import os\n",
    "import math\n",
    "import pprint\n",
    "import cv2\n",
    "from scipy.misc import imsave\n",
    "from helper import *\n",
    "from create_labels import *\n",
    "from stats_helper import *\n",
    "\n",
    "%matplotlib inline\n",
    "plt.rcParams['figure.figsize'] = (10.0, 8.0) # set default size of plots\n",
    "plt.rcParams['image.interpolation'] = 'nearest'"
   ]
  },
  {
   "cell_type": "markdown",
   "metadata": {},
   "source": [
    "### Setting Directory"
   ]
  },
  {
   "cell_type": "code",
   "execution_count": null,
   "metadata": {},
   "outputs": [],
   "source": [
    "# Setting the directories\n",
    "import os\n",
    "\n",
    "wanted_folder = 'alldata/'\n",
    "# wanted_folder = 'pruned/'\n",
    "# wanted_folder = 'Atrium/'\n",
    "# wanted_folder = 'Ventricle/'\n",
    "\n",
    "cwd = os.getcwd()\n",
    "check_directory = cwd\n",
    "if check_directory == '/home/sim/notebooks/relaynet_pytorch':\n",
    "    cwd = cwd + '/datasets/OCTData/'+wanted_folder\n",
    "elif check_directory == '/Users/sim/Desktop/Imperial/Project/PreTrained/relaynet_pytorch':\n",
    "    cwd = cwd + '/datasets-24-aug/OCTData/'+wanted_folder\n",
    "\n",
    "print(cwd)"
   ]
  },
  {
   "cell_type": "markdown",
   "metadata": {},
   "source": [
    "### Raw Files"
   ]
  },
  {
   "cell_type": "code",
   "execution_count": null,
   "metadata": {},
   "outputs": [],
   "source": [
    "whole_raw_image_folder = cwd + 'whole_raw_image/'\n",
    "print(whole_raw_image_folder)"
   ]
  },
  {
   "cell_type": "code",
   "execution_count": null,
   "metadata": {},
   "outputs": [],
   "source": [
    "filenames, raw_images = get_data(whole_raw_image_folder, '.tif')"
   ]
  },
  {
   "cell_type": "code",
   "execution_count": null,
   "metadata": {},
   "outputs": [],
   "source": [
    "print(len(filenames))\n",
    "print (len(raw_images))\n",
    "label = raw_images[0]\n",
    "plt.imshow(raw_images[0], cmap='gray')"
   ]
  },
  {
   "cell_type": "markdown",
   "metadata": {},
   "source": [
    "### Labels"
   ]
  },
  {
   "cell_type": "code",
   "execution_count": null,
   "metadata": {},
   "outputs": [],
   "source": [
    "manual_label_folder = cwd + 'manual_label/'\n",
    "_, manual_labels = get_data(manual_label_folder,'.JPG')\n",
    "print(filenames[0])"
   ]
  },
  {
   "cell_type": "code",
   "execution_count": null,
   "metadata": {},
   "outputs": [],
   "source": [
    "f, axs = plt.subplots(1,2,figsize=(20,20))\n",
    "plt.subplot(121), plt.imshow(raw_images[0], cmap = \"gray\")\n",
    "plt.title('Raw OCT Image'), plt.xticks([]), plt.yticks([])\n",
    "plt.subplot(122), plt.imshow(manual_labels[0])\n",
    "plt.title('Manually Labelled Image'), plt.xticks([]), plt.yticks([])\n",
    "# plt.subplot(133),plt.imshow(output)\n",
    "# plt.title('Automated Label'), plt.xticks([]), plt.yticks([])\n",
    "plt.show()"
   ]
  },
  {
   "cell_type": "markdown",
   "metadata": {},
   "source": [
    "### Ids"
   ]
  },
  {
   "cell_type": "code",
   "execution_count": null,
   "metadata": {},
   "outputs": [],
   "source": [
    "ids_folder = cwd + 'png_labels_method/'\n",
    "_, gnd_ids = get_data(ids_folder,'.png')\n",
    "\n",
    "print (len(gnd_ids))\n",
    "plt.imshow(gnd_ids[0])"
   ]
  },
  {
   "cell_type": "markdown",
   "metadata": {},
   "source": [
    "### Results"
   ]
  },
  {
   "cell_type": "code",
   "execution_count": null,
   "metadata": {},
   "outputs": [],
   "source": [
    "folder_of_interest = 'Normalised/'\n",
    "results_folder = os.getcwd() +'/results/' + folder_of_interest\n",
    "print (results_folder)"
   ]
  },
  {
   "cell_type": "code",
   "execution_count": null,
   "metadata": {
    "scrolled": false
   },
   "outputs": [],
   "source": [
    "# chosen_result = np.load(results_folder + 'tf_nonnormalised_raw.npy')\n",
    "# chosen_result = np.load(results_folder + 'tf_normalised.npy')\n",
    "# chosen_result = np.load(results_folder + 'tf_atrven_normalised.npy')\n",
    "# chosen_result = np.load(results_folder + 'torch_nonnormalised_raw.npy')\n",
    "# chosen_result = np.load(results_folder + 'torch_normalised.npy')\n",
    "chosen_result = np.load(results_folder + 'torch_atrven_normalised.npy')\n",
    "\n",
    "print(chosen_result.shape)\n",
    "\n",
    "\n",
    "dice_stats = []\n",
    "avg_thickness_list = []\n",
    "err_thickness_list = []\n",
    "sqrerr_thickness_list = []\n",
    "for i in range(len(filenames)):\n",
    "    ind = i\n",
    "\n",
    "    # Raw Test Image \n",
    "    testing_image = raw_images[ind]\n",
    "    test_label = manual_labels[ind]\n",
    "    true_id = gnd_ids[ind]\n",
    "    predicted_id = chosen_result[ind]\n",
    "    \n",
    "    # Creating one hot encoding of true labels and predicted labels\n",
    "    true_labels = list_of_labels(true_id,8)\n",
    "    pred_labels = list_of_labels(predicted_id,8)\n",
    "    \n",
    "    # Making sure they're same shape\n",
    "    th,tw,_ = true_labels.shape\n",
    "    ph,pw,_ = pred_labels.shape\n",
    "    true_labels = true_labels[:min(th,ph), :min(tw,pw), :]\n",
    "    pred_labels = pred_labels[:min(th,ph), :min(tw,pw), :]\n",
    "    \n",
    "    stats = find_stats(true_labels, pred_labels)\n",
    "    _,avg_pred_thickness_list,mean_abs_error_list, mean_squared_error_list, _ = thickness_metrics(true_labels,pred_labels)\n",
    "    dice_stats.append(stats)\n",
    "    avg_thickness_list.append(avg_pred_thickness_list)\n",
    "    err_thickness_list.append(mean_abs_error_list)\n",
    "    sqrerr_thickness_list.append(mean_squared_error_list)\n",
    "#     color = label_img_to_rgb(chosen_result[ind])\n",
    "    \n",
    "#     axis_name = filenames[ind][4:-4]\n",
    "\n",
    "#     f, axs = plt.subplots(1,3,figsize=(20,20))\n",
    "#     plt.suptitle(axis_name, size=14)\n",
    "#     plt.subplots_adjust(top=1.58)\n",
    "#     plt.subplot(131), plt.imshow(raw_images[ind], cmap = \"gray\")\n",
    "#     plt.title('Raw OCT Image'), plt.xticks([]), plt.yticks([])\n",
    "#     plt.subplot(132), plt.imshow(manual_labels[ind])\n",
    "#     plt.title('Manually Labelled Image'), plt.xticks([]), plt.yticks([])\n",
    "#     plt.subplot(133),plt.imshow(color)\n",
    "#     plt.title('Automated Label'), plt.xticks([]), plt.yticks([])\n",
    "    \n",
    "#     plt.show()\n",
    "\n",
    "dice_stats = np.asarray(dice_stats)\n",
    "avg_thickness_list = np.asarray(avg_thickness_list)\n",
    "err_thickness_list = np.asarray(err_thickness_list)\n",
    "sqrerr_thickness_list = np.asarray(sqrerr_thickness_list)\n",
    "\n",
    "layers = ['Void - Black', 'Myocardium - Red', 'Endocardium - Blue', 'Fibrosis - Purple', 'Fat - Green', 'Dense Collagen - Orange', 'Loose Collagen - Yellow', 'Smooth Muscle - Pink']\n",
    "\n",
    "def get_layer_stats(input_list):\n",
    "    averages = []\n",
    "    for i in range(1,8):\n",
    "    #     ii = np.isfinite(overall_stats[:,i])\n",
    "        ii = input_list[:,i] > 0.001\n",
    "        new_stats = input_list[:,i][ii]\n",
    "        if len(new_stats)>0:\n",
    "            best_val = np.argmax(new_stats)\n",
    "            print('Best_val is at index: ', best_val)\n",
    "        val = round(np.average(new_stats),3)\n",
    "        averages.append(val)\n",
    "        print('Label: {} {}, Average Score: {}'.format(i, layers[i],averages[i]))\n",
    "    print('Average Scores', np.around(averages,3))\n",
    "    print('Average Overall Score', np.average(averages))\n",
    "    \n",
    "# Dice Stats\n",
    "print('Dice Stats\\n')\n",
    "get_layer_stats(dice_stats)\n",
    "print()\n",
    "# Avg Thickness Stats\n",
    "print('Average Thickness Stats\\n')\n",
    "get_layer_stats(avg_thickness_list)\n",
    "print()\n",
    "# Mean Error Thickness Stat\n",
    "print('Absolute Error Stats\\n')\n",
    "get_layer_stats(err_thickness_list)\n",
    "print()\n",
    "# # Squared Error Thickness State\n",
    "# print('Squared Error Stats\\n')\n",
    "# get_layer_stats(sqrerr_thickness_list)\n",
    "\n",
    "def get_layer_stats2(input_list):\n",
    "    averages = []\n",
    "    for i in range(1,8):\n",
    "    #     ii = np.isfinite(overall_stats[:,i])\n",
    "        ii = input_list[:,i] > 0.001\n",
    "        new_stats = input_list[:,i][ii]\n",
    "        if len(new_stats)>0:\n",
    "            best_val = np.argmax(new_stats)\n",
    "        val = round(np.average(new_stats),2)\n",
    "        averages.append(val)\n",
    "    print('Average Scores', np.around(averages,2))\n",
    "# Dice Stats\n",
    "get_layer_stats2(dice_stats)\n",
    "# Avg Thickness Stats\n",
    "get_layer_stats2(avg_thickness_list)\n",
    "# Mean Error Thickness Stat\n",
    "get_layer_stats2(err_thickness_list)"
   ]
  },
  {
   "cell_type": "code",
   "execution_count": null,
   "metadata": {},
   "outputs": [],
   "source": [
    "# ind = 4\n",
    "# for i in range(8):\n",
    "#     print('Label: {} {}, Average Dice Score: {}'.format(i, layers[i], overall_stats[ind,i]))\n",
    "\n",
    "# color = label_img_to_rgb(chosen_result[ind]) \n",
    "# f, axs = plt.subplots(1,3,figsize=(20,20))\n",
    "# plt.subplot(131), plt.imshow(raw_images[ind], cmap = \"gray\")\n",
    "# plt.title('Raw OCT Image'), plt.xticks([]), plt.yticks([])\n",
    "# plt.subplot(132), plt.imshow(manual_labels[ind])\n",
    "# plt.title('Manually Labelled Image'), plt.xticks([]), plt.yticks([])\n",
    "# plt.subplot(133),plt.imshow(color)\n",
    "# plt.title('Automated Label'), plt.xticks([]), plt.yticks([])\n",
    "# plt.show()\n",
    "\n",
    "# t_label = list_of_labels(gnd_ids[ind],8)\n",
    "# p_label = list_of_labels(chosen_result[ind],8)\n",
    "# # Plotting Labels of the layers\n",
    "# fig, axes = plt.subplots(nrows=1, ncols=8, figsize=(20,20))\n",
    "# for i, ax in enumerate(axes):\n",
    "#     ax.imshow((t_label[:,:,i]), alpha=0.2)\n",
    "#     ax.set_title(\"label \" + str(i))\n",
    "\n",
    "# fig, axes = plt.subplots(nrows=1, ncols=8, figsize=(20,20))\n",
    "# for i, ax in enumerate(axes):\n",
    "#     ax.imshow((p_label[:,:,i]), alpha=0.2)\n",
    "#     ax.set_title(\"label \" + str(i))"
   ]
  }
 ],
 "metadata": {
  "kernelspec": {
   "display_name": "Python (py3)",
   "language": "python",
   "name": "py3"
  },
  "language_info": {
   "codemirror_mode": {
    "name": "ipython",
    "version": 3
   },
   "file_extension": ".py",
   "mimetype": "text/x-python",
   "name": "python",
   "nbconvert_exporter": "python",
   "pygments_lexer": "ipython3",
   "version": "3.6.5"
  }
 },
 "nbformat": 4,
 "nbformat_minor": 2
}
