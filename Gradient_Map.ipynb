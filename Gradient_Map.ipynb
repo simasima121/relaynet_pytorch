{
 "cells": [
  {
   "cell_type": "code",
   "execution_count": null,
   "metadata": {},
   "outputs": [],
   "source": [
    "import skimage.restoration as sr\n",
    "import numpy as np\n",
    "import glob\n",
    "# import h5py\n",
    "import os\n",
    "import scipy.io as scio\n",
    "from skimage import exposure\n",
    "from skimage.io import imsave, imread\n",
    "from scipy.misc import imresize\n",
    "from scipy.io import savemat\n",
    "from scipy import ndimage, misc\n",
    "import matplotlib.pyplot as plt\n",
    "%matplotlib inline\n",
    "import re\n",
    "import cv2\n",
    "\n",
    "from helper import *\n",
    "\n",
    "import os\n",
    "cwd = os.getcwd()"
   ]
  },
  {
   "cell_type": "code",
   "execution_count": null,
   "metadata": {},
   "outputs": [],
   "source": [
    "def atoi(text) : \n",
    "    return int(text) if text.isdigit() else text\n",
    "\n",
    "def natural_keys(text) :\n",
    "    return [atoi(c) for c in re.split('(\\d+)', text)]"
   ]
  },
  {
   "cell_type": "markdown",
   "metadata": {},
   "source": [
    "### Remove Images in Folder"
   ]
  },
  {
   "cell_type": "code",
   "execution_count": null,
   "metadata": {},
   "outputs": [],
   "source": [
    "remove = False\n",
    "if remove:\n",
    "    nlmeans_image_folder_rem = cwd + '/datasets/OCTData/alldata/nl_means_denoised/Train/'\n",
    "    remove_files(nlmeans_image_folder_rem, '.png')"
   ]
  },
  {
   "cell_type": "markdown",
   "metadata": {},
   "source": [
    "### Root Folder\n",
    "\n",
    "Removed folders in whole_data is os.walk will reference them"
   ]
  },
  {
   "cell_type": "code",
   "execution_count": null,
   "metadata": {},
   "outputs": [],
   "source": [
    "root_path = \"\"\n",
    "filenames = []\n",
    "# NOTE: REMOVE SUBFOLDER FROM THIS FOLDER SO FILENAMES LENGTH IS CORRECT!!!\n",
    "# for root, dirnames, filenames in os.walk(\"/home/sim/notebooks/relaynet_pytorch/datasets/OCTData/alldata/whole_raw_image/Train\"):\n",
    "for root, dirnames, filenames in os.walk(\"/Users/sim/Desktop/Imperial/Project/PreTrained/relaynet_pytorch/datasets-24-aug/OCTData/alldata/whole_raw_image\"):\n",
    "    filenames.sort(key = natural_keys)\n",
    "    rootpath = root\n",
    "print(len(filenames))"
   ]
  },
  {
   "cell_type": "code",
   "execution_count": null,
   "metadata": {},
   "outputs": [],
   "source": [
    "# print(filenames)\n",
    "filenames = filenames[1:] # making filenames without .DS_store\n",
    "# print(filenames)"
   ]
  },
  {
   "cell_type": "code",
   "execution_count": null,
   "metadata": {},
   "outputs": [],
   "source": [
    "def get_info(filenames, ext):\n",
    "    images = []\n",
    "    for filename in filenames :\n",
    "        filepath = os.path.join(root,filename)\n",
    "        if ext == '.npy':\n",
    "            image = np.load(filepath)\n",
    "            h,w = image.shape\n",
    "            \n",
    "            if h != 512 or w != 64:\n",
    "#                 print(h,w) \n",
    "                amount = 512 - h\n",
    "                id_full = np.full((amount, 64), 0)\n",
    "                image = np.concatenate((image, id_full))\n",
    "#                 print(image.shape)\n",
    "        elif ext == '.JPG' or ext == '.tif':\n",
    "            image = ndimage.imread(filepath, mode = \"L\")\n",
    "        images.append(image)\n",
    "    return images"
   ]
  },
  {
   "cell_type": "code",
   "execution_count": null,
   "metadata": {},
   "outputs": [],
   "source": [
    "raw_images = get_info(filenames, '.tif')\n",
    "print (len(raw_images))\n",
    "# print(filenames)"
   ]
  },
  {
   "cell_type": "markdown",
   "metadata": {},
   "source": [
    "### Compute Gradient Map\n",
    "Source: https://handmap.github.io/gradients-and-edge-detection/"
   ]
  },
  {
   "cell_type": "code",
   "execution_count": null,
   "metadata": {},
   "outputs": [],
   "source": [
    "# loading image\n",
    "def find_contours(new_img):\n",
    "    x_sz, y_sz = 9, 9\n",
    "\n",
    "    \n",
    "    # remove noise    \n",
    "\n",
    "\n",
    "    img = new_img\n",
    "\n",
    "    plt.figure(figsize=(x_sz,y_sz))\n",
    "    plt.imshow(img, cmap=\"gray\")\n",
    "    plt.title('DeNoisedImage'), plt.xticks([]), plt.yticks([])\n",
    "#     plt.show()\n",
    "    \n",
    "    # Compute the Laplacian of the image\n",
    "    lap = cv2.Laplacian(img, cv2.CV_64F)\n",
    "    lap = np.uint8(np.absolute(lap))\n",
    "\n",
    "    plt.figure(figsize=(x_sz,y_sz))\n",
    "    plt.imshow(lap, cmap=\"gray\")\n",
    "    plt.title('Laplacian'), plt.xticks([]), plt.yticks([])\n",
    "    \n",
    "    # Compute gradients along the X and Y axis, respectively\n",
    "    sobelX = cv2.Sobel(lap, cv2.CV_64F, 1, 0)\n",
    "    sobelY = cv2.Sobel(lap, cv2.CV_64F, 0, 1)\n",
    "    \n",
    "    # The sobelX and sobelY images are now of the floating\n",
    "    # point data type -- we need to take care when converting\n",
    "    # back to an 8-bit unsigned integer that we do not miss\n",
    "    # any images due to clipping values outside the range\n",
    "    # of [0, 255]. First, we take the absolute value of the\n",
    "    # graident magnitude images, THEN we convert them back\n",
    "    # to 8-bit unsigned integers\n",
    "    sobelX = np.uint8(np.absolute(sobelX))\n",
    "    sobelY = np.uint8(np.absolute(sobelY))\n",
    "    \n",
    "    # We can combine our Sobel gradient images using our\n",
    "    # bitwise OR\n",
    "    sobelCombined = cv2.bitwise_or(sobelX, sobelY)\n",
    "    \n",
    "    # Show our Sobel images\n",
    "    plt.figure(figsize=(x_sz,y_sz))\n",
    "    plt.imshow(sobelX, cmap='gray')\n",
    "    plt.title('Sobelx'), plt.xticks([]), plt.yticks([])\n",
    "    \n",
    "    plt.figure(figsize=(x_sz,y_sz))\n",
    "    plt.imshow(sobelY, cmap='gray')\n",
    "    plt.title('Sobely'), plt.xticks([]), plt.yticks([])\n",
    "    \n",
    "    plt.figure(figsize=(x_sz,y_sz))\n",
    "    plt.imshow(sobelCombined, cmap='gray')\n",
    "    plt.title('sobelCombined'), plt.xticks([]), plt.yticks([])\n",
    "    \n",
    "    return sobelCombined\n",
    "\n",
    "#     # convolute with proper kernels\n",
    "#     laplacian = cv2.Laplacian(img,cv2.CV_64F)\n",
    "#     laplacian = np.uint8(np.absolute(laplacian))\n",
    "    \n",
    "#     sobelx = cv2.Sobel(img,cv2.CV_64F,1,0,ksize=5)  # x\n",
    "#     sobely = cv2.Sobel(img,cv2.CV_64F,0,1,ksize=5)  # y\n",
    "\n",
    "#     plt.subplot(2,2,1),plt.imshow(img,cmap = 'gray')\n",
    "#     plt.title('Original'), plt.xticks([]), plt.yticks([])\n",
    "#     plt.subplot(2,2,2),plt.imshow(laplacian, cmap = 'gray')\n",
    "#     plt.title('Laplacian'), plt.xticks([]), plt.yticks([])\n",
    "#     plt.subplot(2,2,3),plt.imshow(sobelx, cmap = 'gray')\n",
    "#     plt.title('Sobel X'), plt.xticks([]), plt.yticks([])\n",
    "#     plt.subplot(2,2,4),plt.imshow(sobely, cmap = 'gray')\n",
    "#     plt.title('Sobel Y'), plt.xticks([]), plt.yticks([])\n",
    "#     plt.show()"
   ]
  },
  {
   "cell_type": "code",
   "execution_count": null,
   "metadata": {},
   "outputs": [],
   "source": [
    "image = '/Users/sim/Desktop/Imperial/Project/PreTrained/relaynet_pytorch/datasets-24-aug/OCTData/alldata/whole_raw_image/con_H1_N01848_LA_1_272.tif'\n",
    "# Load the image\n",
    "img = cv2.imread(image)\n",
    "returned_image = compute_laplacian_gm(img)"
   ]
  },
  {
   "cell_type": "code",
   "execution_count": null,
   "metadata": {},
   "outputs": [],
   "source": [
    "gradient_map_images = []\n",
    "for count, image in enumerate(raw_images):\n",
    "    if count < 1:\n",
    "        plt.imshow(image)\n",
    "        compute_laplacian_gm(image)\n",
    "        print(count)\n",
    "        gradient_map_images.append(compute_laplacian_gm(image))"
   ]
  },
  {
   "cell_type": "code",
   "execution_count": null,
   "metadata": {},
   "outputs": [],
   "source": [
    "print(len(gradient_map_images))"
   ]
  },
  {
   "cell_type": "code",
   "execution_count": null,
   "metadata": {},
   "outputs": [],
   "source": [
    "directory = '/Users/sim/Desktop/Imperial/Project/PreTrained/relaynet_pytorch/datasets-24-aug/OCTData/alldata/'\n",
    "for item in range(len(raw_images)):\n",
    "    name = filenames[item]\n",
    "    \n",
    "    gm_file = directory + 'gradient_map/'+ name\n",
    "    \n",
    "    # Saving files\n",
    "    imsave(gm_file, gradient_map_images[item])"
   ]
  },
  {
   "cell_type": "code",
   "execution_count": null,
   "metadata": {},
   "outputs": [],
   "source": []
  }
 ],
 "metadata": {
  "kernelspec": {
   "display_name": "Python (py3)",
   "language": "python",
   "name": "py3"
  },
  "language_info": {
   "codemirror_mode": {
    "name": "ipython",
    "version": 3
   },
   "file_extension": ".py",
   "mimetype": "text/x-python",
   "name": "python",
   "nbconvert_exporter": "python",
   "pygments_lexer": "ipython3",
   "version": "3.6.5"
  }
 },
 "nbformat": 4,
 "nbformat_minor": 2
}
