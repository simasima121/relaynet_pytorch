{
 "cells": [
  {
   "cell_type": "markdown",
   "metadata": {},
   "source": [
    "# Train ReLayNet"
   ]
  },
  {
   "cell_type": "code",
   "execution_count": 1,
   "metadata": {
    "collapsed": true
   },
   "outputs": [],
   "source": [
    "import numpy as np\n",
    "import matplotlib.pyplot as plt\n",
    "import torch\n",
    "from torch.autograd import Variable\n",
    "import h5py\n",
    "\n",
    "from relaynet_pytorch.relay_net import ReLayNet\n",
    "from relaynet_pytorch.data_utils import get_imdb_data\n",
    "from helper import * # import helper functions\n",
    "\n",
    "#torch.set_default_tensor_type('torch.FloatTensor')\n",
    "\n",
    "%matplotlib inline\n",
    "plt.rcParams['figure.figsize'] = (10.0, 8.0) # set default size of plots\n",
    "plt.rcParams['image.interpolation'] = 'nearest'\n",
    "plt.rcParams['image.cmap'] = 'gray'\n",
    "\n",
    "# for auto-reloading external modules\n",
    "# see http://stackoverflow.com/questions/1907993/autoreload-of-modules-in-ipython\n",
    "%load_ext autoreload\n",
    "%autoreload 2"
   ]
  },
  {
   "cell_type": "code",
   "execution_count": 2,
   "metadata": {},
   "outputs": [
    {
     "name": "stdout",
     "output_type": "stream",
     "text": [
      "(171, 2, 512, 64)\n",
      "(171, 512, 64)\n",
      "(171, 512, 64)\n",
      "[  1.           4.33599997   6.63000011  12.00699997  12.45899963\n",
      "  14.64700031  15.36800003  17.97800064  19.33600044  21.62999916\n",
      "  27.00699997  27.45899963  29.64699936  30.36800003  32.97800064]\n",
      "[   0.    1.    2.    3.    4.    5.    6.    7.  255.]\n"
     ]
    }
   ],
   "source": [
    "Label = h5py.File('datasets/OCTData/label.h5', 'r')\n",
    "a_group_key = list(Label.keys())[0]\n",
    "Label = list(Label[a_group_key])\n",
    "Label = np.squeeze(np.asarray(Label))\n",
    "print(Label.shape)\n",
    "weights = Label[:, 1, 0:512, :]\n",
    "Label = Label[:, 0, 0:512, :]\n",
    "print(weights.shape)\n",
    "print(Label.shape)\n",
    "print(np.unique(weights))\n",
    "print(np.unique(Label))"
   ]
  },
  {
   "cell_type": "code",
   "execution_count": 3,
   "metadata": {},
   "outputs": [
    {
     "name": "stdout",
     "output_type": "stream",
     "text": [
      "(171, 512, 64)\n",
      "(171, 512, 64)\n",
      "Train size: 136\n",
      "Test size: 35\n",
      "(tensor([[[   0.,    0.,    0.,  ...,    0.,    0.,    0.],\n",
      "         [   0.,    0.,    0.,  ...,    0.,    0.,    0.],\n",
      "         [   0.,    0.,    0.,  ...,    0.,    0.,    0.],\n",
      "         ...,\n",
      "         [   0.,    0.,    0.,  ...,    0.,    0.,    0.],\n",
      "         [   0.,    0.,    0.,  ...,    0.,    0.,    0.],\n",
      "         [   0.,    0.,    0.,  ...,    0.,    0.,    0.]]]), tensor([[ 254.,  254.,  254.,  ...,  254.,  254.,  254.],\n",
      "        [ 254.,  254.,  254.,  ...,  254.,  254.,  254.],\n",
      "        [ 254.,  254.,  254.,  ...,  254.,  254.,  254.],\n",
      "        ...,\n",
      "        [ 254.,  254.,  254.,  ...,  254.,  254.,  254.],\n",
      "        [ 254.,  254.,  254.,  ...,  254.,  254.,  254.],\n",
      "        [ 254.,  254.,  254.,  ...,  254.,  254.,  254.]]), tensor([[[  1.0000,   1.0000,   1.0000,  ...,   1.0000,   1.0000,\n",
      "            1.0000],\n",
      "         [  1.0000,   1.0000,   1.0000,  ...,   1.0000,   1.0000,\n",
      "            1.0000],\n",
      "         [  1.0000,   1.0000,   1.0000,  ...,   1.0000,   1.0000,\n",
      "            1.0000],\n",
      "         ...,\n",
      "         [  1.0000,   1.0000,   1.0000,  ...,   1.0000,   1.0000,\n",
      "            1.0000],\n",
      "         [  1.0000,   1.0000,   1.0000,  ...,   1.0000,   1.0000,\n",
      "            1.0000],\n",
      "         [  1.0000,   1.0000,   1.0000,  ...,   1.0000,   1.0000,\n",
      "            1.0000]],\n",
      "\n",
      "        [[  1.0000,   1.0000,   1.0000,  ...,   1.0000,   1.0000,\n",
      "            1.0000],\n",
      "         [  1.0000,   1.0000,   1.0000,  ...,   1.0000,   1.0000,\n",
      "            1.0000],\n",
      "         [  1.0000,   1.0000,   1.0000,  ...,   1.0000,   1.0000,\n",
      "            1.0000],\n",
      "         ...,\n",
      "         [  1.0000,   1.0000,   1.0000,  ...,   1.0000,   1.0000,\n",
      "            1.0000],\n",
      "         [  1.0000,   1.0000,   1.0000,  ...,   1.0000,   1.0000,\n",
      "            1.0000],\n",
      "         [  1.0000,   1.0000,   1.0000,  ...,   1.0000,   1.0000,\n",
      "            1.0000]],\n",
      "\n",
      "        [[  1.0000,   1.0000,   1.0000,  ...,   1.0000,   1.0000,\n",
      "            1.0000],\n",
      "         [  1.0000,   1.0000,   1.0000,  ...,   1.0000,   1.0000,\n",
      "            1.0000],\n",
      "         [  1.0000,   1.0000,   1.0000,  ...,   1.0000,   1.0000,\n",
      "            1.0000],\n",
      "         ...,\n",
      "         [  1.0000,   1.0000,   1.0000,  ...,   1.0000,   1.0000,\n",
      "            1.0000],\n",
      "         [  1.0000,   1.0000,   1.0000,  ...,   1.0000,   1.0000,\n",
      "            1.0000],\n",
      "         [  1.0000,   1.0000,   1.0000,  ...,   1.0000,   1.0000,\n",
      "            1.0000]],\n",
      "\n",
      "        ...,\n",
      "\n",
      "        [[  1.0000,   1.0000,   1.0000,  ...,   1.0000,   1.0000,\n",
      "            1.0000],\n",
      "         [  1.0000,   1.0000,   1.0000,  ...,   1.0000,   1.0000,\n",
      "            1.0000],\n",
      "         [  1.0000,   1.0000,   1.0000,  ...,   1.0000,   1.0000,\n",
      "            1.0000],\n",
      "         ...,\n",
      "         [  1.0000,   1.0000,   1.0000,  ...,   1.0000,   1.0000,\n",
      "            1.0000],\n",
      "         [  1.0000,   1.0000,   1.0000,  ...,   1.0000,   1.0000,\n",
      "            1.0000],\n",
      "         [  1.0000,   1.0000,   1.0000,  ...,   1.0000,   1.0000,\n",
      "            1.0000]],\n",
      "\n",
      "        [[  1.0000,   1.0000,   1.0000,  ...,   1.0000,   1.0000,\n",
      "            1.0000],\n",
      "         [  1.0000,   1.0000,   1.0000,  ...,   1.0000,   1.0000,\n",
      "            1.0000],\n",
      "         [  1.0000,   1.0000,   1.0000,  ...,   1.0000,   1.0000,\n",
      "            1.0000],\n",
      "         ...,\n",
      "         [  1.0000,   1.0000,   1.0000,  ...,   1.0000,   1.0000,\n",
      "            1.0000],\n",
      "         [  1.0000,   1.0000,   1.0000,  ...,   1.0000,   1.0000,\n",
      "            1.0000],\n",
      "         [  1.0000,   1.0000,   1.0000,  ...,   1.0000,   1.0000,\n",
      "            1.0000]],\n",
      "\n",
      "        [[  1.0000,   1.0000,   1.0000,  ...,   1.0000,   1.0000,\n",
      "            1.0000],\n",
      "         [  1.0000,   1.0000,   1.0000,  ...,   1.0000,   1.0000,\n",
      "            1.0000],\n",
      "         [  1.0000,   1.0000,   1.0000,  ...,   1.0000,   1.0000,\n",
      "            1.0000],\n",
      "         ...,\n",
      "         [  1.0000,   1.0000,   1.0000,  ...,   1.0000,   1.0000,\n",
      "            1.0000],\n",
      "         [  1.0000,   1.0000,   1.0000,  ...,   1.0000,   1.0000,\n",
      "            1.0000],\n",
      "         [  1.0000,   1.0000,   1.0000,  ...,   1.0000,   1.0000,\n",
      "            1.0000]]]))\n"
     ]
    }
   ],
   "source": [
    "train_data, test_data = get_imdb_data()\n",
    "print(\"Train size: %i\" % len(train_data))\n",
    "print(\"Test size: %i\" % len(test_data))\n",
    "print(train_data[0])"
   ]
  },
  {
   "cell_type": "code",
   "execution_count": 4,
   "metadata": {},
   "outputs": [
    {
     "name": "stdout",
     "output_type": "stream",
     "text": [
      "START TRAIN.\n",
      "torch.Size([1, 1, 512, 64]) torch.Size([1, 512, 64]) torch.Size([1, 7, 512, 64])\n",
      "forward target torch.Size([1, 512, 64])\n",
      "<built-in method size of Tensor object at 0x7fa54c29dca8>\n",
      "torch.Size([7, 512, 64])\n",
      "Encoded Target Shape: torch.Size([1, 7, 512, 64])\n",
      "Encoded Target Type: torch.cuda.FloatTensor\n",
      "Target Shape: torch.Size([1, 512, 64])\n",
      "Target Unsqueeze Shape: torch.Size([1, 1, 512, 64])\n",
      "Target type: torch.cuda.LongTensor\n"
     ]
    },
    {
     "ename": "RuntimeError",
     "evalue": "cuda runtime error (59) : device-side assert triggered at /home/sim/install/pytorch/aten/src/THC/generated/../THCReduceAll.cuh:339",
     "output_type": "error",
     "traceback": [
      "\u001b[0;31m---------------------------------------------------------------------------\u001b[0m",
      "\u001b[0;31mRuntimeError\u001b[0m                              Traceback (most recent call last)",
      "\u001b[0;32m<ipython-input-4-0b920070f10b>\u001b[0m in \u001b[0;36m<module>\u001b[0;34m()\u001b[0m\n\u001b[1;32m     23\u001b[0m \u001b[0mrelaynet_model\u001b[0m \u001b[0;34m=\u001b[0m \u001b[0mReLayNet\u001b[0m\u001b[0;34m(\u001b[0m\u001b[0mparam\u001b[0m\u001b[0;34m)\u001b[0m\u001b[0;34m\u001b[0m\u001b[0m\n\u001b[1;32m     24\u001b[0m \u001b[0msolver\u001b[0m \u001b[0;34m=\u001b[0m \u001b[0mSolver\u001b[0m\u001b[0;34m(\u001b[0m\u001b[0moptim_args\u001b[0m\u001b[0;34m=\u001b[0m\u001b[0;34m{\u001b[0m\u001b[0;34m\"lr\"\u001b[0m\u001b[0;34m:\u001b[0m \u001b[0;36m1e-2\u001b[0m\u001b[0;34m}\u001b[0m\u001b[0;34m)\u001b[0m\u001b[0;34m\u001b[0m\u001b[0m\n\u001b[0;32m---> 25\u001b[0;31m \u001b[0msolver\u001b[0m\u001b[0;34m.\u001b[0m\u001b[0mtrain\u001b[0m\u001b[0;34m(\u001b[0m\u001b[0mrelaynet_model\u001b[0m\u001b[0;34m,\u001b[0m \u001b[0mtrain_loader\u001b[0m\u001b[0;34m,\u001b[0m \u001b[0mval_loader\u001b[0m\u001b[0;34m,\u001b[0m \u001b[0mlog_nth\u001b[0m\u001b[0;34m=\u001b[0m\u001b[0;36m1\u001b[0m\u001b[0;34m,\u001b[0m \u001b[0mnum_epochs\u001b[0m\u001b[0;34m=\u001b[0m\u001b[0;36m2\u001b[0m\u001b[0;34m,\u001b[0m \u001b[0mexp_dir_name\u001b[0m\u001b[0;34m=\u001b[0m\u001b[0mexp_dir_name\u001b[0m\u001b[0;34m)\u001b[0m\u001b[0;34m\u001b[0m\u001b[0m\n\u001b[0m",
      "\u001b[0;32m~/notebooks/relaynet_pytorch/relaynet_pytorch/solver.py\u001b[0m in \u001b[0;36mtrain\u001b[0;34m(self, model, train_loader, val_loader, num_epochs, log_nth, exp_dir_name)\u001b[0m\n\u001b[1;32m    102\u001b[0m                     \u001b[0moutput\u001b[0m \u001b[0;34m=\u001b[0m \u001b[0mmodel\u001b[0m\u001b[0;34m(\u001b[0m\u001b[0mX\u001b[0m\u001b[0;34m)\u001b[0m\u001b[0;34m\u001b[0m\u001b[0m\n\u001b[1;32m    103\u001b[0m \u001b[0;34m\u001b[0m\u001b[0m\n\u001b[0;32m--> 104\u001b[0;31m                     \u001b[0mloss\u001b[0m \u001b[0;34m=\u001b[0m \u001b[0mself\u001b[0m\u001b[0;34m.\u001b[0m\u001b[0mloss_func\u001b[0m\u001b[0;34m(\u001b[0m\u001b[0moutput\u001b[0m\u001b[0;34m,\u001b[0m \u001b[0my\u001b[0m\u001b[0;34m,\u001b[0m \u001b[0mw\u001b[0m\u001b[0;34m)\u001b[0m\u001b[0;34m\u001b[0m\u001b[0m\n\u001b[0m\u001b[1;32m    105\u001b[0m                     \u001b[0mloss\u001b[0m\u001b[0;34m.\u001b[0m\u001b[0mbackward\u001b[0m\u001b[0;34m(\u001b[0m\u001b[0;34m)\u001b[0m\u001b[0;34m\u001b[0m\u001b[0m\n\u001b[1;32m    106\u001b[0m                     \u001b[0moptim\u001b[0m\u001b[0;34m.\u001b[0m\u001b[0mstep\u001b[0m\u001b[0;34m(\u001b[0m\u001b[0;34m)\u001b[0m\u001b[0;34m\u001b[0m\u001b[0m\n",
      "\u001b[0;32m~/anaconda3/envs/py3/lib/python3.6/site-packages/torch/nn/modules/module.py\u001b[0m in \u001b[0;36m__call__\u001b[0;34m(self, *input, **kwargs)\u001b[0m\n\u001b[1;32m    489\u001b[0m             \u001b[0mresult\u001b[0m \u001b[0;34m=\u001b[0m \u001b[0mself\u001b[0m\u001b[0;34m.\u001b[0m\u001b[0m_slow_forward\u001b[0m\u001b[0;34m(\u001b[0m\u001b[0;34m*\u001b[0m\u001b[0minput\u001b[0m\u001b[0;34m,\u001b[0m \u001b[0;34m**\u001b[0m\u001b[0mkwargs\u001b[0m\u001b[0;34m)\u001b[0m\u001b[0;34m\u001b[0m\u001b[0m\n\u001b[1;32m    490\u001b[0m         \u001b[0;32melse\u001b[0m\u001b[0;34m:\u001b[0m\u001b[0;34m\u001b[0m\u001b[0m\n\u001b[0;32m--> 491\u001b[0;31m             \u001b[0mresult\u001b[0m \u001b[0;34m=\u001b[0m \u001b[0mself\u001b[0m\u001b[0;34m.\u001b[0m\u001b[0mforward\u001b[0m\u001b[0;34m(\u001b[0m\u001b[0;34m*\u001b[0m\u001b[0minput\u001b[0m\u001b[0;34m,\u001b[0m \u001b[0;34m**\u001b[0m\u001b[0mkwargs\u001b[0m\u001b[0;34m)\u001b[0m\u001b[0;34m\u001b[0m\u001b[0m\n\u001b[0m\u001b[1;32m    492\u001b[0m         \u001b[0;32mfor\u001b[0m \u001b[0mhook\u001b[0m \u001b[0;32min\u001b[0m \u001b[0mself\u001b[0m\u001b[0;34m.\u001b[0m\u001b[0m_forward_hooks\u001b[0m\u001b[0;34m.\u001b[0m\u001b[0mvalues\u001b[0m\u001b[0;34m(\u001b[0m\u001b[0;34m)\u001b[0m\u001b[0;34m:\u001b[0m\u001b[0;34m\u001b[0m\u001b[0m\n\u001b[1;32m    493\u001b[0m             \u001b[0mhook_result\u001b[0m \u001b[0;34m=\u001b[0m \u001b[0mhook\u001b[0m\u001b[0;34m(\u001b[0m\u001b[0mself\u001b[0m\u001b[0;34m,\u001b[0m \u001b[0minput\u001b[0m\u001b[0;34m,\u001b[0m \u001b[0mresult\u001b[0m\u001b[0;34m)\u001b[0m\u001b[0;34m\u001b[0m\u001b[0m\n",
      "\u001b[0;32m~/notebooks/relaynet_pytorch/relaynet_pytorch/net_api/losses.py\u001b[0m in \u001b[0;36mforward\u001b[0;34m(self, input, target, weight)\u001b[0m\n\u001b[1;32m    105\u001b[0m         \u001b[0minput_soft\u001b[0m \u001b[0;34m=\u001b[0m \u001b[0mF\u001b[0m\u001b[0;34m.\u001b[0m\u001b[0msoftmax\u001b[0m\u001b[0;34m(\u001b[0m\u001b[0minput\u001b[0m\u001b[0;34m,\u001b[0m\u001b[0mdim\u001b[0m\u001b[0;34m=\u001b[0m\u001b[0;36m1\u001b[0m\u001b[0;34m)\u001b[0m\u001b[0;34m\u001b[0m\u001b[0m\n\u001b[1;32m    106\u001b[0m         \u001b[0mprint\u001b[0m\u001b[0;34m(\u001b[0m\u001b[0;34m'forward target'\u001b[0m\u001b[0;34m,\u001b[0m\u001b[0mtarget\u001b[0m\u001b[0;34m.\u001b[0m\u001b[0mshape\u001b[0m\u001b[0;34m)\u001b[0m\u001b[0;34m\u001b[0m\u001b[0m\n\u001b[0;32m--> 107\u001b[0;31m         \u001b[0my2\u001b[0m \u001b[0;34m=\u001b[0m \u001b[0mtorch\u001b[0m\u001b[0;34m.\u001b[0m\u001b[0mmean\u001b[0m\u001b[0;34m(\u001b[0m\u001b[0mself\u001b[0m\u001b[0;34m.\u001b[0m\u001b[0mdice_loss\u001b[0m\u001b[0;34m(\u001b[0m\u001b[0minput_soft\u001b[0m\u001b[0;34m,\u001b[0m \u001b[0mtarget\u001b[0m\u001b[0;34m)\u001b[0m\u001b[0;34m)\u001b[0m\u001b[0;34m\u001b[0m\u001b[0m\n\u001b[0m\u001b[1;32m    108\u001b[0m         \u001b[0my1\u001b[0m \u001b[0;34m=\u001b[0m \u001b[0mtorch\u001b[0m\u001b[0;34m.\u001b[0m\u001b[0mmean\u001b[0m\u001b[0;34m(\u001b[0m\u001b[0mtorch\u001b[0m\u001b[0;34m.\u001b[0m\u001b[0mmul\u001b[0m\u001b[0;34m(\u001b[0m\u001b[0mself\u001b[0m\u001b[0;34m.\u001b[0m\u001b[0mcross_entropy_loss\u001b[0m\u001b[0;34m.\u001b[0m\u001b[0mforward\u001b[0m\u001b[0;34m(\u001b[0m\u001b[0minput\u001b[0m\u001b[0;34m,\u001b[0m \u001b[0mtarget\u001b[0m\u001b[0;34m)\u001b[0m\u001b[0;34m,\u001b[0m \u001b[0mweight\u001b[0m\u001b[0;34m)\u001b[0m\u001b[0;34m)\u001b[0m\u001b[0;34m\u001b[0m\u001b[0m\n\u001b[1;32m    109\u001b[0m         \u001b[0my\u001b[0m \u001b[0;34m=\u001b[0m \u001b[0my1\u001b[0m \u001b[0;34m+\u001b[0m \u001b[0my2\u001b[0m\u001b[0;34m\u001b[0m\u001b[0m\n",
      "\u001b[0;32m~/anaconda3/envs/py3/lib/python3.6/site-packages/torch/nn/modules/module.py\u001b[0m in \u001b[0;36m__call__\u001b[0;34m(self, *input, **kwargs)\u001b[0m\n\u001b[1;32m    489\u001b[0m             \u001b[0mresult\u001b[0m \u001b[0;34m=\u001b[0m \u001b[0mself\u001b[0m\u001b[0;34m.\u001b[0m\u001b[0m_slow_forward\u001b[0m\u001b[0;34m(\u001b[0m\u001b[0;34m*\u001b[0m\u001b[0minput\u001b[0m\u001b[0;34m,\u001b[0m \u001b[0;34m**\u001b[0m\u001b[0mkwargs\u001b[0m\u001b[0;34m)\u001b[0m\u001b[0;34m\u001b[0m\u001b[0m\n\u001b[1;32m    490\u001b[0m         \u001b[0;32melse\u001b[0m\u001b[0;34m:\u001b[0m\u001b[0;34m\u001b[0m\u001b[0m\n\u001b[0;32m--> 491\u001b[0;31m             \u001b[0mresult\u001b[0m \u001b[0;34m=\u001b[0m \u001b[0mself\u001b[0m\u001b[0;34m.\u001b[0m\u001b[0mforward\u001b[0m\u001b[0;34m(\u001b[0m\u001b[0;34m*\u001b[0m\u001b[0minput\u001b[0m\u001b[0;34m,\u001b[0m \u001b[0;34m**\u001b[0m\u001b[0mkwargs\u001b[0m\u001b[0;34m)\u001b[0m\u001b[0;34m\u001b[0m\u001b[0m\n\u001b[0m\u001b[1;32m    492\u001b[0m         \u001b[0;32mfor\u001b[0m \u001b[0mhook\u001b[0m \u001b[0;32min\u001b[0m \u001b[0mself\u001b[0m\u001b[0;34m.\u001b[0m\u001b[0m_forward_hooks\u001b[0m\u001b[0;34m.\u001b[0m\u001b[0mvalues\u001b[0m\u001b[0;34m(\u001b[0m\u001b[0;34m)\u001b[0m\u001b[0;34m:\u001b[0m\u001b[0;34m\u001b[0m\u001b[0m\n\u001b[1;32m    493\u001b[0m             \u001b[0mhook_result\u001b[0m \u001b[0;34m=\u001b[0m \u001b[0mhook\u001b[0m\u001b[0;34m(\u001b[0m\u001b[0mself\u001b[0m\u001b[0;34m,\u001b[0m \u001b[0minput\u001b[0m\u001b[0;34m,\u001b[0m \u001b[0mresult\u001b[0m\u001b[0;34m)\u001b[0m\u001b[0;34m\u001b[0m\u001b[0m\n",
      "\u001b[0;32m~/notebooks/relaynet_pytorch/relaynet_pytorch/net_api/losses.py\u001b[0m in \u001b[0;36mforward\u001b[0;34m(self, output, target, weights, ignore_index)\u001b[0m\n\u001b[1;32m     82\u001b[0m         \u001b[0mloss_per_channel\u001b[0m \u001b[0;34m=\u001b[0m \u001b[0mweights\u001b[0m \u001b[0;34m*\u001b[0m \u001b[0;34m(\u001b[0m\u001b[0;36m1\u001b[0m \u001b[0;34m-\u001b[0m \u001b[0;34m(\u001b[0m\u001b[0mnumerator\u001b[0m \u001b[0;34m/\u001b[0m \u001b[0mdenominator\u001b[0m\u001b[0;34m)\u001b[0m\u001b[0;34m)\u001b[0m\u001b[0;34m\u001b[0m\u001b[0m\n\u001b[1;32m     83\u001b[0m \u001b[0;34m\u001b[0m\u001b[0m\n\u001b[0;32m---> 84\u001b[0;31m         \u001b[0;32mreturn\u001b[0m \u001b[0mloss_per_channel\u001b[0m\u001b[0;34m.\u001b[0m\u001b[0msum\u001b[0m\u001b[0;34m(\u001b[0m\u001b[0;34m)\u001b[0m \u001b[0;34m/\u001b[0m \u001b[0moutput\u001b[0m\u001b[0;34m.\u001b[0m\u001b[0msize\u001b[0m\u001b[0;34m(\u001b[0m\u001b[0;36m1\u001b[0m\u001b[0;34m)\u001b[0m\u001b[0;34m\u001b[0m\u001b[0m\n\u001b[0m\u001b[1;32m     85\u001b[0m \u001b[0;34m\u001b[0m\u001b[0m\n\u001b[1;32m     86\u001b[0m \u001b[0;34m\u001b[0m\u001b[0m\n",
      "\u001b[0;31mRuntimeError\u001b[0m: cuda runtime error (59) : device-side assert triggered at /home/sim/install/pytorch/aten/src/THC/generated/../THCReduceAll.cuh:339"
     ]
    }
   ],
   "source": [
    "from relaynet_pytorch.relay_net import ReLayNet\n",
    "from relaynet_pytorch.solver import Solver\n",
    "bs = 1\n",
    "train_loader = torch.utils.data.DataLoader(train_data, batch_size=bs, shuffle=True, num_workers=4)\n",
    "val_loader = torch.utils.data.DataLoader(test_data, batch_size=bs, shuffle=False, num_workers=4)\n",
    "\n",
    "param ={\n",
    "        'num_channels':1,\n",
    "        'num_filters':64,\n",
    "        'kernel_h':3,\n",
    "        'kernel_w':7,\n",
    "        'kernel_c': 1,\n",
    "        'stride_conv':1,\n",
    "        'pool':2,\n",
    "        'stride_pool':2,\n",
    "        'num_class':8\n",
    "    }\n",
    "# for batch in train_loader:\n",
    "#     print(batch[0].size())\n",
    "\n",
    "exp_dir_name = 'RawOCT'\n",
    "CUDA_LAUNCH_BLOCKING=1\n",
    "relaynet_model = ReLayNet(param)\n",
    "solver = Solver(optim_args={\"lr\": 1e-2})\n",
    "solver.train(relaynet_model, train_loader, val_loader, log_nth=1, num_epochs=2, exp_dir_name=exp_dir_name)"
   ]
  },
  {
   "cell_type": "code",
   "execution_count": null,
   "metadata": {
    "collapsed": true
   },
   "outputs": [],
   "source": [
    "# encoded_target = torch.zeros(4, 7, 512, 64)\n",
    "# target = torch.ones(4, 512, 64, dtype=torch.long)\n",
    "# print(encoded_target.shape)\n",
    "# print(target.size())\n",
    "# print(target.unsqueeze(1).size())\n",
    "# encoded_target.scatter_(1, target.unsqueeze(1), 1)"
   ]
  },
  {
   "cell_type": "markdown",
   "metadata": {},
   "source": [
    "Help from: https://github.com/pytorch/pytorch/issues/2646"
   ]
  },
  {
   "cell_type": "code",
   "execution_count": null,
   "metadata": {
    "collapsed": true
   },
   "outputs": [],
   "source": [
    "# torch.zeros(3, 4).scatter_(0, torch.LongTensor([[2, 2, 2],[1, 1,1],[0, 0,0]]), torch.arange(1,13).resize_(3, 4))"
   ]
  },
  {
   "cell_type": "code",
   "execution_count": null,
   "metadata": {
    "collapsed": true
   },
   "outputs": [],
   "source": [
    "# print(torch.arange(1,13).resize_(3, 4))\n",
    "# torch.zeros(3, 4).scatter_(1, torch.LongTensor([[2, 2, 2, 2],[1, 1,1,1],[0, 0,0,0]]), torch.arange(1,13).resize_(3, 4))"
   ]
  },
  {
   "cell_type": "code",
   "execution_count": null,
   "metadata": {
    "collapsed": true
   },
   "outputs": [],
   "source": [
    "# torch.zeros(1, 2).scatter_(1, torch.LongTensor([[0, 0],[]), torch.arange(1,3).resize_(1, 2))"
   ]
  },
  {
   "cell_type": "code",
   "execution_count": null,
   "metadata": {
    "collapsed": true
   },
   "outputs": [],
   "source": []
  }
 ],
 "metadata": {
  "kernelspec": {
   "display_name": "Python (torch)",
   "language": "python",
   "name": "py3"
  },
  "language_info": {
   "codemirror_mode": {
    "name": "ipython",
    "version": 3
   },
   "file_extension": ".py",
   "mimetype": "text/x-python",
   "name": "python",
   "nbconvert_exporter": "python",
   "pygments_lexer": "ipython3",
   "version": "3.6.5"
  }
 },
 "nbformat": 4,
 "nbformat_minor": 2
}
