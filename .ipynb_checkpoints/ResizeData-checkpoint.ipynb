{
 "cells": [
  {
   "cell_type": "code",
   "execution_count": 8,
   "metadata": {
    "collapsed": false
   },
   "outputs": [
    {
     "name": "stdout",
     "output_type": "stream",
     "text": [
      "The autoreload extension is already loaded. To reload it, use:\n",
      "  %reload_ext autoreload\n"
     ]
    }
   ],
   "source": [
    "import scipy.io as scio\n",
    "import numpy as np    \n",
    "import matplotlib.pyplot as plt\n",
    "import sys\n",
    "import os\n",
    "import math\n",
    "from scipy.misc import imsave\n",
    "from helper import *\n",
    "\n",
    "%matplotlib inline\n",
    "plt.rcParams['figure.figsize'] = (10.0, 8.0) # set default size of plots\n",
    "plt.rcParams['image.interpolation'] = 'nearest'\n",
    "plt.rcParams['image.cmap'] = 'gray'\n",
    "\n",
    "# for auto-reloading external modules\n",
    "# see http://stackoverflow.com/questions/1907993/autoreload-of-modules-in-ipython\n",
    "%load_ext autoreload\n",
    "%autoreload 2"
   ]
  },
  {
   "cell_type": "code",
   "execution_count": 9,
   "metadata": {
    "collapsed": true
   },
   "outputs": [],
   "source": [
    "def show_main_image(img_data):\n",
    "    img_data = np.squeeze(img_data) # we do squeeze image test to remove any additional unwanted dimensions.\n",
    "    plt.imshow(img_data)\n",
    "    plt.show()"
   ]
  },
  {
   "cell_type": "code",
   "execution_count": 10,
   "metadata": {
    "collapsed": false
   },
   "outputs": [],
   "source": [
    "# Setting the directories\n",
    "import os\n",
    "cwd = os.getcwd()\n",
    "main_direct = '/datasets/OCTData/'\n",
    "directory = cwd + main_direct # main directory\n",
    "\n",
    "# Extensions\n",
    "raw_ext = '.tif'\n",
    "label_ext = '.JPG'\n",
    "\n",
    "files = {}\n",
    "for number, filename in enumerate(sorted(os.listdir(directory)), start=1):\n",
    "    files[number] = filename\n",
    "    \n",
    "sub_directory = directory+files[1]+'/'\n",
    "\n",
    "image = plt.imread(sub_directory+'con_'+files[1]+raw_ext)\n",
    "# show_main_image(image)\n",
    "label_image = plt.imread(sub_directory+'label_'+files[1]+label_ext)\n",
    "# show_main_image(label_image)\n",
    "\n",
    "\n",
    "# Testing images saved correctly\n",
    "# test_dir1 = \"/home/sim/notebooks/relaynet_pytorch/datasets/OCTData/H1_N01848_LA_1_272/Resized_train/con_H1_N01848_LA_1_272_1.tif\"\n",
    "# test_dir2 = \"/home/sim/notebooks/relaynet_pytorch/datasets/OCTData/H1_N01848_LA_1_272/Resized_train/label_H1_N01848_LA_1_272_1.JPG\"\n",
    "# test_dir3 = \"/home/sim/notebooks/relaynet_pytorch/datasets/OCTData/H1_N01848_LA_1_272/Resized_train/label_H1_N01848_LA_1_272_colour_1.JPG\"\n",
    "# image1 = plt.imread(test_dir1)\n",
    "# image2 = plt.imread(test_dir2)\n",
    "# image3 = plt.imread(test_dir3,True)\n",
    "\n",
    "# show_main_image(image1)\n",
    "# show_main_image(image2)\n",
    "# show_main_image(image3)"
   ]
  },
  {
   "cell_type": "markdown",
   "metadata": {},
   "source": [
    "#### Rename Labelled Images"
   ]
  },
  {
   "cell_type": "code",
   "execution_count": 11,
   "metadata": {
    "collapsed": true
   },
   "outputs": [],
   "source": [
    "# Rename files in folder\n",
    "rename = False\n",
    "\n",
    "if rename:\n",
    "    for number, filename in sorted(files.items()):\n",
    "        sub_directory = directory+files[number]+'/'\n",
    "        for f in os.listdir(sub_directory):\n",
    "            ext = f[-4:]\n",
    "            if ext == label_ext:\n",
    "                print(sub_directory)\n",
    "                old_filename = sub_directory+f\n",
    "                new_filename = sub_directory+'label_'+filename+label_ext\n",
    "                print(\"Old Filename: {}, New Filename: {}\".format(old_filename, new_filename))\n",
    "                os.rename(old_filename, new_filename)"
   ]
  },
  {
   "cell_type": "markdown",
   "metadata": {},
   "source": [
    "#### Create New Directory"
   ]
  },
  {
   "cell_type": "code",
   "execution_count": 13,
   "metadata": {
    "collapsed": true
   },
   "outputs": [],
   "source": [
    "make_new_directory = False\n",
    "if make_new_directory:\n",
    "    for number, filename in sorted(files.items()):\n",
    "        sub_directory = directory+files[number]+'/'\n",
    "        for f in os.listdir(sub_directory):\n",
    "            ext = f[-4:]\n",
    "            # If the file isn't an ipynb notebook file and it's the .tif file\n",
    "            if ext == raw_ext:\n",
    "                path = sub_directory+'Resized_train'\n",
    "                os.mkdir(path)"
   ]
  },
  {
   "cell_type": "code",
   "execution_count": 14,
   "metadata": {
    "collapsed": false
   },
   "outputs": [],
   "source": [
    "# def crop_image(image,left_bound,right_bound, dimensions = True):\n",
    "#     if dimensions:\n",
    "#         image = image[:,left_bound:right_bound]\n",
    "#     else:\n",
    "#         image = image[:, left_bound:right_bound, :]\n",
    "#     return image\n",
    "\n",
    "# def segment_image(image, left_bound, right_bound):\n",
    "#     list_of_images = []\n",
    "#     for i in range(9):\n",
    "#         if len(image.shape) == 2:\n",
    "#             cropped_image = crop_image(image, i*64, (i+1) * 64)\n",
    "#             list_of_images.append(cropped_image)\n",
    "#         elif len(image.shape) == 3:\n",
    "#             cropped_image = crop_image(image, i*64, (i+1) * 64, False)\n",
    "#             list_of_images.append(cropped_image)\n",
    "#     return list_of_images\n",
    "\n",
    "# def save_image(image, sub_directory, f, ext, i, colour = False):\n",
    "#     to_replace = f.find(ext)\n",
    "#     number = \"_\" + str(i+1)\n",
    "#     name = sub_directory + \"Resized_train/\" + f[:to_replace] + number + ext\n",
    "#     if colour == True:\n",
    "#         number = \"_colour_\" + str(i+1)\n",
    "#         name = sub_directory + \"Resized_train/\" + f[:to_replace] + number + ext\n",
    "# #     imsave(name, segmented_images[i])"
   ]
  },
  {
   "cell_type": "code",
   "execution_count": 16,
   "metadata": {
    "collapsed": false
   },
   "outputs": [
    {
     "ename": "NameError",
     "evalue": "name 'helper' is not defined",
     "output_type": "error",
     "traceback": [
      "\u001b[0;31m---------------------------------------------------------------------------\u001b[0m",
      "\u001b[0;31mNameError\u001b[0m                                 Traceback (most recent call last)",
      "\u001b[0;32m<ipython-input-16-11ce52888786>\u001b[0m in \u001b[0;36m<module>\u001b[0;34m()\u001b[0m\n\u001b[1;32m     34\u001b[0m         \u001b[0;31m#                 segmented_images[i].shape = (1,1,512,64)\u001b[0m\u001b[0;34m\u001b[0m\u001b[0;34m\u001b[0m\u001b[0m\n\u001b[1;32m     35\u001b[0m \u001b[0;34m\u001b[0m\u001b[0m\n\u001b[0;32m---> 36\u001b[0;31m                         \u001b[0mhelper\u001b[0m\u001b[0;34m.\u001b[0m\u001b[0msave_image\u001b[0m\u001b[0;34m(\u001b[0m\u001b[0mimage\u001b[0m\u001b[0;34m,\u001b[0m \u001b[0msub_directory\u001b[0m\u001b[0;34m,\u001b[0m \u001b[0mf\u001b[0m\u001b[0;34m,\u001b[0m \u001b[0mext\u001b[0m\u001b[0;34m,\u001b[0m \u001b[0mi\u001b[0m\u001b[0;34m,\u001b[0m \u001b[0;32mTrue\u001b[0m\u001b[0;34m)\u001b[0m\u001b[0;34m\u001b[0m\u001b[0m\n\u001b[0m\u001b[1;32m     37\u001b[0m \u001b[0;34m\u001b[0m\u001b[0m\n\u001b[1;32m     38\u001b[0m                         \u001b[0msegmented_images\u001b[0m\u001b[0;34m[\u001b[0m\u001b[0mi\u001b[0m\u001b[0;34m]\u001b[0m \u001b[0;34m=\u001b[0m \u001b[0msegmented_images\u001b[0m\u001b[0;34m[\u001b[0m\u001b[0mi\u001b[0m\u001b[0;34m]\u001b[0m\u001b[0;34m[\u001b[0m\u001b[0;34m:\u001b[0m\u001b[0;34m,\u001b[0m\u001b[0;34m:\u001b[0m\u001b[0;34m,\u001b[0m\u001b[0;36m0\u001b[0m\u001b[0;34m]\u001b[0m \u001b[0;31m# remove colour for training\u001b[0m\u001b[0;34m\u001b[0m\u001b[0m\n",
      "\u001b[0;31mNameError\u001b[0m: name 'helper' is not defined"
     ]
    }
   ],
   "source": [
    "make_files = True\n",
    "if make_files:\n",
    "    for number, filename in sorted(files.items()):\n",
    "        sub_directory = directory+files[number]+'/'\n",
    "        for f in os.listdir(sub_directory):\n",
    "            ext = f[-4:]\n",
    "            shape = 2\n",
    "            if ext == raw_ext or ext == label_ext:\n",
    "                image_file = sub_directory+f\n",
    "                image = plt.imread(image_file)\n",
    "                if len(image.shape) == 2:\n",
    "                    height, width = image.shape\n",
    "                    if width > 600:\n",
    "                        image = crop_image(image, 0, 600) # Crop all images at 512,600\n",
    "                elif len(image.shape) == 3:\n",
    "                    height, width, colour = image.shape\n",
    "                    if width > 600:\n",
    "                        image = crop_image(image, 0, 600, colour) # Crop all images at 512,600\n",
    "\n",
    "    #             show_main_image(image)\n",
    "                segmented_images = segment_image(image, 0, 600)\n",
    "\n",
    "                for i in range(len(segmented_images)):\n",
    "                    if len(image.shape) == 2:\n",
    "                        save_image(image, sub_directory, f, ext, i, False)\n",
    "                    elif len(image.shape) == 3:\n",
    "                         # Pixel loop\n",
    "        #                 for pix in range(512):\n",
    "        #                     for p in range(64):\n",
    "        #                         print(segmented_images[i][pix][p])\n",
    "\n",
    "        #                 NOTE: WHEN SAVING IMAGES, HAVE TO HAVE CODE FOR COLOUR OF IMAGES TOO! \n",
    "        #                 segmented_images[i] = np.transpose(segmented_images[i], (2, 0, 1))\n",
    "        #                 segmented_images[i].shape = (1,1,512,64)\n",
    "\n",
    "                        save_image(image, sub_directory, f, ext, i, True)\n",
    "\n",
    "                        segmented_images[i] = segmented_images[i][:,:,0] # remove colour for training\n",
    "                        save_image(image, sub_directory, f, ext, i, False)"
   ]
  },
  {
   "cell_type": "code",
   "execution_count": null,
   "metadata": {
    "collapsed": true
   },
   "outputs": [],
   "source": []
  }
 ],
 "metadata": {
  "kernelspec": {
   "display_name": "Python (torch)",
   "language": "python",
   "name": "py3"
  },
  "language_info": {
   "codemirror_mode": {
    "name": "ipython",
    "version": 3
   },
   "file_extension": ".py",
   "mimetype": "text/x-python",
   "name": "python",
   "nbconvert_exporter": "python",
   "pygments_lexer": "ipython3",
   "version": "3.6.5"
  }
 },
 "nbformat": 4,
 "nbformat_minor": 2
}
