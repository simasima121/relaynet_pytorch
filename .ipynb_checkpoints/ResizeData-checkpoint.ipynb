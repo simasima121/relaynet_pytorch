{
 "cells": [
  {
   "cell_type": "code",
   "execution_count": 1,
   "metadata": {
    "collapsed": false
   },
   "outputs": [],
   "source": [
    "import scipy.io as scio\n",
    "import numpy as np    \n",
    "import matplotlib.pyplot as plt\n",
    "import sys\n",
    "import os\n",
    "import math\n",
    "from scipy.misc import imsave\n",
    "from helper import *\n",
    "\n",
    "%matplotlib inline\n",
    "plt.rcParams['figure.figsize'] = (10.0, 8.0) # set default size of plots\n",
    "plt.rcParams['image.interpolation'] = 'nearest'\n",
    "plt.rcParams['image.cmap'] = 'gray'\n",
    "\n",
    "# for auto-reloading external modules\n",
    "# see http://stackoverflow.com/questions/1907993/autoreload-of-modules-in-ipython\n",
    "%load_ext autoreload\n",
    "%autoreload 2"
   ]
  },
  {
   "cell_type": "code",
   "execution_count": 2,
   "metadata": {
    "collapsed": false
   },
   "outputs": [],
   "source": [
    "# Setting the directories\n",
    "import os\n",
    "cwd = os.getcwd()\n",
    "main_direct = '/datasets/OCTData/'\n",
    "directory = cwd + main_direct # main directory\n",
    "\n",
    "# Extensions\n",
    "raw_ext = '.tif'\n",
    "label_ext = '.JPG'\n",
    "\n",
    "files = {}\n",
    "for number, filename in enumerate(sorted(os.listdir(directory)), start=1):\n",
    "    files[number] = filename\n",
    "    \n",
    "sub_directory = directory+files[1]+'/'\n",
    "\n",
    "image = plt.imread(sub_directory+'con_'+files[1]+raw_ext)\n",
    "# show_main_image(image)\n",
    "label_image = plt.imread(sub_directory+'label_'+files[1]+label_ext)\n",
    "# show_main_image(label_image)\n",
    "\n",
    "\n",
    "# # Testing images saved correctly\n",
    "# test_dir1 = \"/home/sim/notebooks/relaynet_pytorch/datasets/OCTData/H1_N01848_LA_1_272/Resized_train/con_H1_N01848_LA_1_272_1.tif\"\n",
    "# test_dir2 = \"/home/sim/notebooks/relaynet_pytorch/datasets/OCTData/H1_N01848_LA_1_272/Resized_train/label_H1_N01848_LA_1_272_1.JPG\"\n",
    "# test_dir3 = \"/home/sim/notebooks/relaynet_pytorch/datasets/OCTData/H1_N01848_LA_1_272/Resized_train/label_H1_N01848_LA_1_272_colour_1.JPG\"\n",
    "# image1 = plt.imread(test_dir1)\n",
    "# image2 = plt.imread(test_dir2)\n",
    "# image3 = plt.imread(test_dir3)\n",
    "# print(image1.shape)\n",
    "# print(image2.shape)\n",
    "# print(image3.shape)\n",
    "\n",
    "# show_main_image(image1)\n",
    "# show_main_image(image2)\n",
    "# show_main_image(image3)"
   ]
  },
  {
   "cell_type": "markdown",
   "metadata": {},
   "source": [
    "#### Rename Labelled Images"
   ]
  },
  {
   "cell_type": "code",
   "execution_count": 3,
   "metadata": {
    "collapsed": true
   },
   "outputs": [],
   "source": [
    "# Rename files in folder\n",
    "rename = False\n",
    "\n",
    "if rename:\n",
    "    for number, filename in sorted(files.items()):\n",
    "        sub_directory = directory+files[number]+'/'\n",
    "        for f in os.listdir(sub_directory):\n",
    "            ext = f[-4:]\n",
    "            if ext == label_ext:\n",
    "                print(sub_directory)\n",
    "                old_filename = sub_directory+f\n",
    "                new_filename = sub_directory+'label_'+filename+label_ext\n",
    "                print(\"Old Filename: {}, New Filename: {}\".format(old_filename, new_filename))\n",
    "                os.rename(old_filename, new_filename)"
   ]
  },
  {
   "cell_type": "markdown",
   "metadata": {},
   "source": [
    "#### Create New Directory"
   ]
  },
  {
   "cell_type": "code",
   "execution_count": 4,
   "metadata": {
    "collapsed": true
   },
   "outputs": [],
   "source": [
    "make_new_directory = False\n",
    "if make_new_directory:\n",
    "    for number, filename in sorted(files.items()):\n",
    "        sub_directory = directory+files[number]+'/'\n",
    "        for f in os.listdir(sub_directory):\n",
    "            ext = f[-4:]\n",
    "            # If the file isn't an ipynb notebook file and it's the .tif file\n",
    "            if ext == raw_ext:\n",
    "                path = sub_directory+'Resized_train'\n",
    "                os.mkdir(path)"
   ]
  },
  {
   "cell_type": "code",
   "execution_count": 5,
   "metadata": {
    "collapsed": false
   },
   "outputs": [],
   "source": [
    "make_segments = False\n",
    "if make_segments:\n",
    "    for number, filename in sorted(files.items()):\n",
    "        sub_directory = directory+files[number]+'/'\n",
    "        for f in os.listdir(sub_directory):\n",
    "            ext = f[-4:]\n",
    "            shape = 2\n",
    "            if ext == raw_ext or ext == label_ext:\n",
    "                image_file = sub_directory+f\n",
    "                image = plt.imread(image_file)\n",
    "                \n",
    "                # Crop all images\n",
    "                if len(image.shape) == 2:\n",
    "                    height, width = image.shape\n",
    "                    if width > 600:\n",
    "                        image = crop_image(image, 0, 600) # Crop all images at 512,600\n",
    "                elif len(image.shape) == 3:\n",
    "                    height, width, colour = image.shape\n",
    "                    if width > 600:\n",
    "                        image = crop_image(image, 0, 600, colour) # Crop all images at 512,600\n",
    "                \n",
    "                # Segment all iamges\n",
    "                segmented_images = segment_image(image, 0, 600, 64)\n",
    "                for i in range(len(segmented_images)):\n",
    "                    if len(image.shape) == 2:\n",
    "                        save_image(segmented_images[i], sub_directory, f, ext, i, False)\n",
    "                    elif len(image.shape) == 3:\n",
    "                         # Pixel loop\n",
    "        #                 for pix in range(512):\n",
    "        #                     for p in range(64):\n",
    "        #                         print(segmented_images[i][pix][p])\n",
    "\n",
    "        #                 NOTE: WHEN SAVING IMAGES, HAVE TO HAVE CODE FOR COLOUR OF IMAGES TOO! \n",
    "        #                 segmented_images[i] = np.transpose(segmented_images[i], (2, 0, 1))\n",
    "        #                 segmented_images[i].shape = (1,1,512,64)\n",
    "        #                 show_main_image(image)\n",
    "                        save_image(segmented_images[i], sub_directory, f, ext, i, True)\n",
    "                        segmented_images[i] = segmented_images[i][:,:,0] # remove colour for training\n",
    "                        save_image(segmented_images[i], sub_directory, f, ext, i, False)"
   ]
  }
 ],
 "metadata": {
  "kernelspec": {
   "display_name": "Python (torch)",
   "language": "python",
   "name": "py3"
  },
  "language_info": {
   "codemirror_mode": {
    "name": "ipython",
    "version": 3
   },
   "file_extension": ".py",
   "mimetype": "text/x-python",
   "name": "python",
   "nbconvert_exporter": "python",
   "pygments_lexer": "ipython3",
   "version": "3.6.5"
  }
 },
 "nbformat": 4,
 "nbformat_minor": 2
}
