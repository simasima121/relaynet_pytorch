{
 "cells": [
  {
   "cell_type": "code",
   "execution_count": null,
   "metadata": {},
   "outputs": [],
   "source": [
    "import skimage.restoration as sr\n",
    "import numpy as np\n",
    "import glob\n",
    "# import h5py\n",
    "import os\n",
    "import scipy.io as scio\n",
    "from skimage import exposure\n",
    "from skimage.io import imsave, imread\n",
    "from scipy.misc import imresize\n",
    "from scipy.io import savemat\n",
    "from scipy import ndimage, misc\n",
    "import matplotlib.pyplot as plt\n",
    "%matplotlib inline\n",
    "import re\n",
    "\n",
    "from helper import *\n",
    "\n",
    "import os\n",
    "cwd = os.getcwd()"
   ]
  },
  {
   "cell_type": "code",
   "execution_count": null,
   "metadata": {},
   "outputs": [],
   "source": [
    "def atoi(text) : \n",
    "    return int(text) if text.isdigit() else text"
   ]
  },
  {
   "cell_type": "code",
   "execution_count": null,
   "metadata": {},
   "outputs": [],
   "source": [
    "def natural_keys(text) :\n",
    "    return [atoi(c) for c in re.split('(\\d+)', text)]"
   ]
  },
  {
   "cell_type": "markdown",
   "metadata": {},
   "source": [
    "### Remove Images in Folders"
   ]
  },
  {
   "cell_type": "code",
   "execution_count": null,
   "metadata": {},
   "outputs": [],
   "source": [
    "remove = False\n",
    "if remove:\n",
    "    nlmeans_image_folder_rem = cwd + '/datasets/OCTData/alldata/nl_means_denoised/Train/'\n",
    "    remove_files(nlmeans_image_folder_rem, '.png')"
   ]
  },
  {
   "cell_type": "markdown",
   "metadata": {},
   "source": [
    "### Root Folder\n",
    "\n",
    "Removed folders in whole_data is os.walk will reference them"
   ]
  },
  {
   "cell_type": "code",
   "execution_count": null,
   "metadata": {},
   "outputs": [],
   "source": [
    "root_path = \"\"\n",
    "filenames = []\n",
    "\n",
    "# for root, dirnames, filenames in os.walk(\"/home/sim/notebooks/relaynet_pytorch/datasets/OCTData/alldata/whole_raw_image/Train\"):\n",
    "for root, dirnames, filenames in os.walk(\"/Users/sim/Desktop/Imperial/Project/PreTrained/relaynet_pytorch/datasets-24-aug/OCTData/alldata/whole_raw_image\"):\n",
    "    filenames.sort(key = natural_keys)\n",
    "    rootpath = root\n",
    "print(len(filenames))"
   ]
  },
  {
   "cell_type": "code",
   "execution_count": null,
   "metadata": {},
   "outputs": [],
   "source": [
    "# print(filenames)\n",
    "filenames = filenames[1:] # making filenames without .DS_store\n",
    "# print(filenames)"
   ]
  },
  {
   "cell_type": "code",
   "execution_count": null,
   "metadata": {},
   "outputs": [],
   "source": [
    "def get_info(filenames, ext):\n",
    "    images = []\n",
    "    for filename in filenames :\n",
    "        filepath = os.path.join(root,filename)\n",
    "        if ext == '.npy':\n",
    "            image = np.load(filepath)\n",
    "            h,w = image.shape\n",
    "            \n",
    "            if h != 512 or w != 64:\n",
    "#                 print(h,w) \n",
    "                amount = 512 - h\n",
    "                id_full = np.full((amount, 64), 0)\n",
    "                image = np.concatenate((image, id_full))\n",
    "#                 print(image.shape)\n",
    "        elif ext == '.JPG' or ext == '.tif':\n",
    "            image = ndimage.imread(filepath, mode = \"L\")\n",
    "        images.append(image)\n",
    "    return images"
   ]
  },
  {
   "cell_type": "code",
   "execution_count": null,
   "metadata": {},
   "outputs": [],
   "source": [
    "raw_images = get_info(filenames, '.tif')"
   ]
  },
  {
   "cell_type": "code",
   "execution_count": null,
   "metadata": {},
   "outputs": [],
   "source": [
    "print (len(raw_images))"
   ]
  },
  {
   "cell_type": "code",
   "execution_count": null,
   "metadata": {},
   "outputs": [],
   "source": [
    "print(filenames)"
   ]
  },
  {
   "cell_type": "code",
   "execution_count": null,
   "metadata": {},
   "outputs": [],
   "source": [
    "denoisedimages = []"
   ]
  },
  {
   "cell_type": "code",
   "execution_count": null,
   "metadata": {},
   "outputs": [],
   "source": [
    "hval = 10\n",
    "alpha = 15\n",
    "beta = 1"
   ]
  },
  {
   "cell_type": "markdown",
   "metadata": {},
   "source": [
    "### Filtering\n",
    "Apply filters before normalisation - choosing only best normalisation"
   ]
  },
  {
   "cell_type": "code",
   "execution_count": null,
   "metadata": {},
   "outputs": [],
   "source": [
    "# https://docs.opencv.org/3.0-beta/modules/imgproc/doc/filtering.html\n",
    "# https://opencv-python-tutroals.readthedocs.io/en/latest/py_tutorials/py_imgproc/py_filtering/py_filtering.html\n",
    "\n",
    "# Mean Filtering\n",
    "def mean_filter(img):\n",
    "    kernel = np.ones((3,6),np.float32)/25\n",
    "    denoised = cv2.filter2D(img,-1,kernel)\n",
    "    return denoised\n",
    "\n",
    "# Gaussian Filtering for blur\n",
    "# https://en.wikipedia.org/wiki/Gaussian_blur\n",
    "def gaussian_filter(img):\n",
    "    blur=cv2.GaussianBlur(img,(5,5),2)\n",
    "#     blurred=cv2.cvtColor(blur,cv2.COLOR_BGR2HSV)\n",
    "    denoised=blur\n",
    "    return denoised\n",
    "\n",
    "# bilateralFilter can reduce unwanted noise very well while keeping edges fairly sharp. However, it is very slow compared to most filters.\n",
    "def bilateral_filter(img): \n",
    "    blur=cv2.bilateralFilter(img,5, 65, 65) # choose 5 because takes long time when larger than this, vals of 65,65 as best edge\n",
    "    denoised=blur\n",
    "    return denoised"
   ]
  },
  {
   "cell_type": "code",
   "execution_count": null,
   "metadata": {},
   "outputs": [],
   "source": [
    "def denoise_nl_means(newimage):\n",
    "    '''\n",
    "    NLM denoised image\n",
    "    '''\n",
    "    denoised = sr.denoise_nl_means(newimage, multichannel=False, h=hval)\n",
    "    denoised = denoised - (alpha*beta)\n",
    "    denoised[denoised<0]=0\n",
    "    denoised = denoised.astype(np.uint8)\n",
    "    return denoised"
   ]
  },
  {
   "cell_type": "code",
   "execution_count": null,
   "metadata": {},
   "outputs": [],
   "source": [
    "mean_filter_images = []\n",
    "gaussian_filter_images = []\n",
    "bilateral_filter_images = []\n",
    "nlm_denoised_images = []\n",
    "bm3d_denoised_images = []\n",
    "\n",
    "def denoiseImage(image):\n",
    "    maxvalue = np.max(image)\n",
    "    newimage = image*(255.0/maxvalue).astype(np.uint8)\n",
    "    \n",
    "    mean_filter_img = mean_filter(image)\n",
    "    gaussian_filter_img = gaussian_filter(image)\n",
    "    bilateral_filter_img = bilateral_filter(image)\n",
    "    nlm_denoised = denoise_nl_means(newimage)\n",
    "#     bm3d_denoised = denoise_nl_means(newimage)\n",
    "    \n",
    "    # Store denoised images in array\n",
    "    mean_filter_images.append(mean_filter_img)\n",
    "    gaussian_filter_images.append(gaussian_filter_img)\n",
    "    bilateral_filter_images.append(bilateral_filter_img)\n",
    "    nlm_denoised_images.append(nlm_denoised)"
   ]
  },
  {
   "cell_type": "code",
   "execution_count": null,
   "metadata": {},
   "outputs": [],
   "source": [
    "# def bilateral_filter(img, x): \n",
    "#     blur=cv2.bilateralFilter(img,5, x, x) # choose 5 because takes long time when larger than this, vals of 25,25 good\n",
    "# #     denoised=cv2.cvtColor(blur,cv2.COLOR_BGR2HSV)\n",
    "#     denoised=blur\n",
    "#     return denoised\n",
    "\n",
    "# def denoiseImage(image):\n",
    "#     bilateral_filter_images = []\n",
    "#     for j in range(15, 75, 5):\n",
    "#         bilateral_filter_img = bilateral_filter(image, j)\n",
    "#         bilateral_filter_images.append(bilateral_filter_img)\n",
    "#     print(len(bilateral_filter_images))\n",
    "#     return bilateral_filter_images\n",
    "    \n",
    "# bil_images = []\n",
    "# for count, image in enumerate(raw_images):\n",
    "#     if count < 3:\n",
    "#         denoisd_image = denoiseImage(image)\n",
    "#         bil_images.append(denoisd_image)\n",
    "# print(len(bil_images[0]))\n",
    "\n",
    "# cols = 3\n",
    "# rows = 1\n",
    "# thresh = 3\n",
    "# # raw Filter\n",
    "\n",
    "# for index in range(0,3):\n",
    "#     fig, axes = plt.subplots(nrows=1, ncols=2, figsize=(25,20))\n",
    "#     for i, ax in enumerate(axes):\n",
    "#         ax.imshow(raw_images[index],cmap=\"gray\")\n",
    "#         ax.set_title(filenames[index])\n",
    "\n",
    "#     # Bilateral Filter\n",
    "#     fig, axes = plt.subplots(nrows=12, ncols=1, figsize=(100,100))\n",
    "#     for i, ax in enumerate(axes):\n",
    "#         ax.imshow(bil_images[index][i],cmap=\"gray\")\n",
    "#         ax.set_title(filenames[index])"
   ]
  },
  {
   "cell_type": "code",
   "execution_count": null,
   "metadata": {},
   "outputs": [],
   "source": [
    "for count, image in enumerate(raw_images):\n",
    "    print(count)\n",
    "    denoiseImage(image)"
   ]
  },
  {
   "cell_type": "code",
   "execution_count": null,
   "metadata": {
    "scrolled": false
   },
   "outputs": [],
   "source": [
    "# cols = 3\n",
    "# rows = 1\n",
    "# thresh = 3\n",
    "# # raw Filter\n",
    "# fig, axes = plt.subplots(nrows=rows, ncols=cols, figsize=(25,20))\n",
    "# for i, ax in enumerate(axes):\n",
    "#     if i < thresh:\n",
    "#         ax.imshow(raw_images[i],cmap=\"gray\")\n",
    "#         ax.set_title(filenames[i])\n",
    "        \n",
    "# # Mean Filter\n",
    "# fig, axes = plt.subplots(nrows=rows, ncols=cols, figsize=(25,20))\n",
    "# for i, ax in enumerate(axes):\n",
    "#     if i < thresh:\n",
    "#         ax.imshow(mean_filter_images[i],cmap=\"gray\")\n",
    "#         ax.set_title(filenames[i])\n",
    "\n",
    "# # Gaussian Filter\n",
    "# fig, axes = plt.subplots(nrows=rows, ncols=cols, figsize=(25,20))\n",
    "# for i, ax in enumerate(axes):\n",
    "#     if i < thresh:\n",
    "#         ax.imshow(gaussian_filter_images[i],cmap=\"gray\")\n",
    "#         ax.set_title(filenames[i])\n",
    "\n",
    "# # Bilateral Filter\n",
    "# fig, axes = plt.subplots(nrows=rows, ncols=cols, figsize=(25,20))\n",
    "# for i, ax in enumerate(axes):\n",
    "#     if i < thresh:\n",
    "#         ax.imshow(bilateral_filter_images[i],cmap=\"gray\")\n",
    "#         ax.set_title(filenames[i])\n",
    "\n",
    "# # Non Local Means Filter\n",
    "# fig, axes = plt.subplots(nrows=rows, ncols=cols, figsize=(25,20))\n",
    "# for i, ax in enumerate(axes):\n",
    "#     if i < thresh:\n",
    "#         ax.imshow(nlm_denoised_images[i],cmap=\"gray\")\n",
    "#         ax.set_title(filenames[i])"
   ]
  },
  {
   "cell_type": "code",
   "execution_count": null,
   "metadata": {},
   "outputs": [],
   "source": [
    "print (np.max(nlm_denoised_images[0]))"
   ]
  },
  {
   "cell_type": "code",
   "execution_count": null,
   "metadata": {},
   "outputs": [],
   "source": [
    "print(len(mean_filter_images))"
   ]
  },
  {
   "cell_type": "code",
   "execution_count": null,
   "metadata": {},
   "outputs": [],
   "source": [
    "print(len(denoisedimages))\n",
    "directory = '/Users/sim/Desktop/Imperial/Project/PreTrained/relaynet_pytorch/datasets-24-aug/OCTData/alldata/'\n",
    "for item in range(len(raw_images)):\n",
    "    name = filenames[item]\n",
    "    \n",
    "    mean_file = directory + 'mean_filter/'+ name\n",
    "    gaussian_file = directory + 'gaussian_filter/'+ name\n",
    "    bilateral_file = directory + 'bilateral_filter/'+ name\n",
    "    nl_means_file = directory + 'nl_means_denoised/'+ name\n",
    "    \n",
    "    # Saving files\n",
    "    imsave(mean_file, mean_filter_images[item])\n",
    "    imsave(gaussian_file, gaussian_filter_images[item])\n",
    "    imsave(bilateral_file, bilateral_filter_images[item])\n",
    "    imsave(nl_means_file, nlm_denoised_images[item])"
   ]
  }
 ],
 "metadata": {
  "kernelspec": {
   "display_name": "Python (py3)",
   "language": "python",
   "name": "py3"
  },
  "language_info": {
   "codemirror_mode": {
    "name": "ipython",
    "version": 3
   },
   "file_extension": ".py",
   "mimetype": "text/x-python",
   "name": "python",
   "nbconvert_exporter": "python",
   "pygments_lexer": "ipython3",
   "version": "3.6.5"
  }
 },
 "nbformat": 4,
 "nbformat_minor": 2
}
